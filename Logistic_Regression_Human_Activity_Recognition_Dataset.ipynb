{
  "nbformat": 4,
  "nbformat_minor": 0,
  "metadata": {
    "colab": {
      "provenance": [],
      "include_colab_link": true
    },
    "kernelspec": {
      "name": "python3",
      "display_name": "Python 3"
    },
    "language_info": {
      "name": "python"
    }
  },
  "cells": [
    {
      "cell_type": "markdown",
      "metadata": {
        "id": "view-in-github",
        "colab_type": "text"
      },
      "source": [
        "<a href=\"https://colab.research.google.com/github/RaffaNimir/Python-Models--Machine-Learning/blob/main/Logistic_Regression_Human_Activity_Recognition_Dataset.ipynb\" target=\"_parent\"><img src=\"https://colab.research.google.com/assets/colab-badge.svg\" alt=\"Open In Colab\"/></a>"
      ]
    },
    {
      "cell_type": "markdown",
      "source": [
        "# Logistic Regression on the Human Activity Recognition Dataset\n",
        "\n",
        "This colab project aims to fit a logistic regression or linear regression model to the data source selected in Module #1. The best-fitting model is determined using AIC and/or BIC criteria and K-Fold cross-validation. Additionally, the team attempted to improve model performance by adjusting the data split to 50-50 and implementing Chi-squared tests and PCA. The coefficients of the model are interpreted in the context of the chosen dataset, and a short paragraph is written to describe the findings.\n"
      ],
      "metadata": {
        "id": "SHxXf8mBfT48"
      }
    },
    {
      "cell_type": "markdown",
      "source": [
        "# Basic Model"
      ],
      "metadata": {
        "id": "VvanKV86IicN"
      }
    },
    {
      "cell_type": "code",
      "execution_count": null,
      "metadata": {
        "id": "GFHdxS9urs7P"
      },
      "outputs": [],
      "source": [
        "import pandas as pd\n",
        "import numpy as np\n",
        "from sklearn.linear_model import LogisticRegression\n",
        "from sklearn.model_selection import train_test_split"
      ]
    },
    {
      "cell_type": "code",
      "source": [
        "#Read in and view the training file\n",
        "test = pd.read_csv('/content/test.csv')\n",
        "display(test.head())\n",
        "test.shape"
      ],
      "metadata": {
        "colab": {
          "base_uri": "https://localhost:8080/",
          "height": 335
        },
        "id": "-UK5fB3Jsacu",
        "outputId": "91169a45-cc5f-4f5a-eb46-4e4876e6367f"
      },
      "execution_count": null,
      "outputs": [
        {
          "output_type": "display_data",
          "data": {
            "text/plain": [
              "   tBodyAcc-mean()-X  tBodyAcc-mean()-Y  tBodyAcc-mean()-Z  tBodyAcc-std()-X  \\\n",
              "0           0.257178          -0.023285          -0.014654         -0.938404   \n",
              "1           0.286027          -0.013163          -0.119083         -0.975415   \n",
              "2           0.275485          -0.026050          -0.118152         -0.993819   \n",
              "3           0.270298          -0.032614          -0.117520         -0.994743   \n",
              "4           0.274833          -0.027848          -0.129527         -0.993852   \n",
              "\n",
              "   tBodyAcc-std()-Y  tBodyAcc-std()-Z  tBodyAcc-mad()-X  tBodyAcc-mad()-Y  \\\n",
              "0         -0.920091         -0.667683         -0.952501         -0.925249   \n",
              "1         -0.967458         -0.944958         -0.986799         -0.968401   \n",
              "2         -0.969926         -0.962748         -0.994403         -0.970735   \n",
              "3         -0.973268         -0.967091         -0.995274         -0.974471   \n",
              "4         -0.967445         -0.978295         -0.994111         -0.965953   \n",
              "\n",
              "   tBodyAcc-mad()-Z  tBodyAcc-max()-X  ...  fBodyBodyGyroJerkMag-kurtosis()  \\\n",
              "0         -0.674302         -0.894088  ...                        -0.705974   \n",
              "1         -0.945823         -0.894088  ...                        -0.594944   \n",
              "2         -0.963483         -0.939260  ...                        -0.640736   \n",
              "3         -0.968897         -0.938610  ...                        -0.736124   \n",
              "4         -0.977346         -0.938610  ...                        -0.846595   \n",
              "\n",
              "   angle(tBodyAccMean,gravity)  angle(tBodyAccJerkMean),gravityMean)  \\\n",
              "0                     0.006462                              0.162920   \n",
              "1                    -0.083495                              0.017500   \n",
              "2                    -0.034956                              0.202302   \n",
              "3                    -0.017067                              0.154438   \n",
              "4                    -0.002223                             -0.040046   \n",
              "\n",
              "   angle(tBodyGyroMean,gravityMean)  angle(tBodyGyroJerkMean,gravityMean)  \\\n",
              "0                         -0.825886                              0.271151   \n",
              "1                         -0.434375                              0.920593   \n",
              "2                          0.064103                              0.145068   \n",
              "3                          0.340134                              0.296407   \n",
              "4                          0.736715                             -0.118545   \n",
              "\n",
              "   angle(X,gravityMean)  angle(Y,gravityMean)  angle(Z,gravityMean)  subject  \\\n",
              "0             -0.720009              0.276801             -0.057978        2   \n",
              "1             -0.698091              0.281343             -0.083898        2   \n",
              "2             -0.702771              0.280083             -0.079346        2   \n",
              "3             -0.698954              0.284114             -0.077108        2   \n",
              "4             -0.692245              0.290722             -0.073857        2   \n",
              "\n",
              "   Activity  \n",
              "0  STANDING  \n",
              "1  STANDING  \n",
              "2  STANDING  \n",
              "3  STANDING  \n",
              "4  STANDING  \n",
              "\n",
              "[5 rows x 563 columns]"
            ],
            "text/html": [
              "\n",
              "  <div id=\"df-ed72d7fa-0a2f-4099-bf46-d8ebc11f45e2\">\n",
              "    <div class=\"colab-df-container\">\n",
              "      <div>\n",
              "<style scoped>\n",
              "    .dataframe tbody tr th:only-of-type {\n",
              "        vertical-align: middle;\n",
              "    }\n",
              "\n",
              "    .dataframe tbody tr th {\n",
              "        vertical-align: top;\n",
              "    }\n",
              "\n",
              "    .dataframe thead th {\n",
              "        text-align: right;\n",
              "    }\n",
              "</style>\n",
              "<table border=\"1\" class=\"dataframe\">\n",
              "  <thead>\n",
              "    <tr style=\"text-align: right;\">\n",
              "      <th></th>\n",
              "      <th>tBodyAcc-mean()-X</th>\n",
              "      <th>tBodyAcc-mean()-Y</th>\n",
              "      <th>tBodyAcc-mean()-Z</th>\n",
              "      <th>tBodyAcc-std()-X</th>\n",
              "      <th>tBodyAcc-std()-Y</th>\n",
              "      <th>tBodyAcc-std()-Z</th>\n",
              "      <th>tBodyAcc-mad()-X</th>\n",
              "      <th>tBodyAcc-mad()-Y</th>\n",
              "      <th>tBodyAcc-mad()-Z</th>\n",
              "      <th>tBodyAcc-max()-X</th>\n",
              "      <th>...</th>\n",
              "      <th>fBodyBodyGyroJerkMag-kurtosis()</th>\n",
              "      <th>angle(tBodyAccMean,gravity)</th>\n",
              "      <th>angle(tBodyAccJerkMean),gravityMean)</th>\n",
              "      <th>angle(tBodyGyroMean,gravityMean)</th>\n",
              "      <th>angle(tBodyGyroJerkMean,gravityMean)</th>\n",
              "      <th>angle(X,gravityMean)</th>\n",
              "      <th>angle(Y,gravityMean)</th>\n",
              "      <th>angle(Z,gravityMean)</th>\n",
              "      <th>subject</th>\n",
              "      <th>Activity</th>\n",
              "    </tr>\n",
              "  </thead>\n",
              "  <tbody>\n",
              "    <tr>\n",
              "      <th>0</th>\n",
              "      <td>0.257178</td>\n",
              "      <td>-0.023285</td>\n",
              "      <td>-0.014654</td>\n",
              "      <td>-0.938404</td>\n",
              "      <td>-0.920091</td>\n",
              "      <td>-0.667683</td>\n",
              "      <td>-0.952501</td>\n",
              "      <td>-0.925249</td>\n",
              "      <td>-0.674302</td>\n",
              "      <td>-0.894088</td>\n",
              "      <td>...</td>\n",
              "      <td>-0.705974</td>\n",
              "      <td>0.006462</td>\n",
              "      <td>0.162920</td>\n",
              "      <td>-0.825886</td>\n",
              "      <td>0.271151</td>\n",
              "      <td>-0.720009</td>\n",
              "      <td>0.276801</td>\n",
              "      <td>-0.057978</td>\n",
              "      <td>2</td>\n",
              "      <td>STANDING</td>\n",
              "    </tr>\n",
              "    <tr>\n",
              "      <th>1</th>\n",
              "      <td>0.286027</td>\n",
              "      <td>-0.013163</td>\n",
              "      <td>-0.119083</td>\n",
              "      <td>-0.975415</td>\n",
              "      <td>-0.967458</td>\n",
              "      <td>-0.944958</td>\n",
              "      <td>-0.986799</td>\n",
              "      <td>-0.968401</td>\n",
              "      <td>-0.945823</td>\n",
              "      <td>-0.894088</td>\n",
              "      <td>...</td>\n",
              "      <td>-0.594944</td>\n",
              "      <td>-0.083495</td>\n",
              "      <td>0.017500</td>\n",
              "      <td>-0.434375</td>\n",
              "      <td>0.920593</td>\n",
              "      <td>-0.698091</td>\n",
              "      <td>0.281343</td>\n",
              "      <td>-0.083898</td>\n",
              "      <td>2</td>\n",
              "      <td>STANDING</td>\n",
              "    </tr>\n",
              "    <tr>\n",
              "      <th>2</th>\n",
              "      <td>0.275485</td>\n",
              "      <td>-0.026050</td>\n",
              "      <td>-0.118152</td>\n",
              "      <td>-0.993819</td>\n",
              "      <td>-0.969926</td>\n",
              "      <td>-0.962748</td>\n",
              "      <td>-0.994403</td>\n",
              "      <td>-0.970735</td>\n",
              "      <td>-0.963483</td>\n",
              "      <td>-0.939260</td>\n",
              "      <td>...</td>\n",
              "      <td>-0.640736</td>\n",
              "      <td>-0.034956</td>\n",
              "      <td>0.202302</td>\n",
              "      <td>0.064103</td>\n",
              "      <td>0.145068</td>\n",
              "      <td>-0.702771</td>\n",
              "      <td>0.280083</td>\n",
              "      <td>-0.079346</td>\n",
              "      <td>2</td>\n",
              "      <td>STANDING</td>\n",
              "    </tr>\n",
              "    <tr>\n",
              "      <th>3</th>\n",
              "      <td>0.270298</td>\n",
              "      <td>-0.032614</td>\n",
              "      <td>-0.117520</td>\n",
              "      <td>-0.994743</td>\n",
              "      <td>-0.973268</td>\n",
              "      <td>-0.967091</td>\n",
              "      <td>-0.995274</td>\n",
              "      <td>-0.974471</td>\n",
              "      <td>-0.968897</td>\n",
              "      <td>-0.938610</td>\n",
              "      <td>...</td>\n",
              "      <td>-0.736124</td>\n",
              "      <td>-0.017067</td>\n",
              "      <td>0.154438</td>\n",
              "      <td>0.340134</td>\n",
              "      <td>0.296407</td>\n",
              "      <td>-0.698954</td>\n",
              "      <td>0.284114</td>\n",
              "      <td>-0.077108</td>\n",
              "      <td>2</td>\n",
              "      <td>STANDING</td>\n",
              "    </tr>\n",
              "    <tr>\n",
              "      <th>4</th>\n",
              "      <td>0.274833</td>\n",
              "      <td>-0.027848</td>\n",
              "      <td>-0.129527</td>\n",
              "      <td>-0.993852</td>\n",
              "      <td>-0.967445</td>\n",
              "      <td>-0.978295</td>\n",
              "      <td>-0.994111</td>\n",
              "      <td>-0.965953</td>\n",
              "      <td>-0.977346</td>\n",
              "      <td>-0.938610</td>\n",
              "      <td>...</td>\n",
              "      <td>-0.846595</td>\n",
              "      <td>-0.002223</td>\n",
              "      <td>-0.040046</td>\n",
              "      <td>0.736715</td>\n",
              "      <td>-0.118545</td>\n",
              "      <td>-0.692245</td>\n",
              "      <td>0.290722</td>\n",
              "      <td>-0.073857</td>\n",
              "      <td>2</td>\n",
              "      <td>STANDING</td>\n",
              "    </tr>\n",
              "  </tbody>\n",
              "</table>\n",
              "<p>5 rows × 563 columns</p>\n",
              "</div>\n",
              "      <button class=\"colab-df-convert\" onclick=\"convertToInteractive('df-ed72d7fa-0a2f-4099-bf46-d8ebc11f45e2')\"\n",
              "              title=\"Convert this dataframe to an interactive table.\"\n",
              "              style=\"display:none;\">\n",
              "        \n",
              "  <svg xmlns=\"http://www.w3.org/2000/svg\" height=\"24px\"viewBox=\"0 0 24 24\"\n",
              "       width=\"24px\">\n",
              "    <path d=\"M0 0h24v24H0V0z\" fill=\"none\"/>\n",
              "    <path d=\"M18.56 5.44l.94 2.06.94-2.06 2.06-.94-2.06-.94-.94-2.06-.94 2.06-2.06.94zm-11 1L8.5 8.5l.94-2.06 2.06-.94-2.06-.94L8.5 2.5l-.94 2.06-2.06.94zm10 10l.94 2.06.94-2.06 2.06-.94-2.06-.94-.94-2.06-.94 2.06-2.06.94z\"/><path d=\"M17.41 7.96l-1.37-1.37c-.4-.4-.92-.59-1.43-.59-.52 0-1.04.2-1.43.59L10.3 9.45l-7.72 7.72c-.78.78-.78 2.05 0 2.83L4 21.41c.39.39.9.59 1.41.59.51 0 1.02-.2 1.41-.59l7.78-7.78 2.81-2.81c.8-.78.8-2.07 0-2.86zM5.41 20L4 18.59l7.72-7.72 1.47 1.35L5.41 20z\"/>\n",
              "  </svg>\n",
              "      </button>\n",
              "      \n",
              "  <style>\n",
              "    .colab-df-container {\n",
              "      display:flex;\n",
              "      flex-wrap:wrap;\n",
              "      gap: 12px;\n",
              "    }\n",
              "\n",
              "    .colab-df-convert {\n",
              "      background-color: #E8F0FE;\n",
              "      border: none;\n",
              "      border-radius: 50%;\n",
              "      cursor: pointer;\n",
              "      display: none;\n",
              "      fill: #1967D2;\n",
              "      height: 32px;\n",
              "      padding: 0 0 0 0;\n",
              "      width: 32px;\n",
              "    }\n",
              "\n",
              "    .colab-df-convert:hover {\n",
              "      background-color: #E2EBFA;\n",
              "      box-shadow: 0px 1px 2px rgba(60, 64, 67, 0.3), 0px 1px 3px 1px rgba(60, 64, 67, 0.15);\n",
              "      fill: #174EA6;\n",
              "    }\n",
              "\n",
              "    [theme=dark] .colab-df-convert {\n",
              "      background-color: #3B4455;\n",
              "      fill: #D2E3FC;\n",
              "    }\n",
              "\n",
              "    [theme=dark] .colab-df-convert:hover {\n",
              "      background-color: #434B5C;\n",
              "      box-shadow: 0px 1px 3px 1px rgba(0, 0, 0, 0.15);\n",
              "      filter: drop-shadow(0px 1px 2px rgba(0, 0, 0, 0.3));\n",
              "      fill: #FFFFFF;\n",
              "    }\n",
              "  </style>\n",
              "\n",
              "      <script>\n",
              "        const buttonEl =\n",
              "          document.querySelector('#df-ed72d7fa-0a2f-4099-bf46-d8ebc11f45e2 button.colab-df-convert');\n",
              "        buttonEl.style.display =\n",
              "          google.colab.kernel.accessAllowed ? 'block' : 'none';\n",
              "\n",
              "        async function convertToInteractive(key) {\n",
              "          const element = document.querySelector('#df-ed72d7fa-0a2f-4099-bf46-d8ebc11f45e2');\n",
              "          const dataTable =\n",
              "            await google.colab.kernel.invokeFunction('convertToInteractive',\n",
              "                                                     [key], {});\n",
              "          if (!dataTable) return;\n",
              "\n",
              "          const docLinkHtml = 'Like what you see? Visit the ' +\n",
              "            '<a target=\"_blank\" href=https://colab.research.google.com/notebooks/data_table.ipynb>data table notebook</a>'\n",
              "            + ' to learn more about interactive tables.';\n",
              "          element.innerHTML = '';\n",
              "          dataTable['output_type'] = 'display_data';\n",
              "          await google.colab.output.renderOutput(dataTable, element);\n",
              "          const docLink = document.createElement('div');\n",
              "          docLink.innerHTML = docLinkHtml;\n",
              "          element.appendChild(docLink);\n",
              "        }\n",
              "      </script>\n",
              "    </div>\n",
              "  </div>\n",
              "  "
            ]
          },
          "metadata": {}
        },
        {
          "output_type": "execute_result",
          "data": {
            "text/plain": [
              "(2947, 563)"
            ]
          },
          "metadata": {},
          "execution_count": 20
        }
      ]
    },
    {
      "cell_type": "code",
      "source": [
        "test.dropna(inplace=True)"
      ],
      "metadata": {
        "id": "VpleE2qvnSOf"
      },
      "execution_count": null,
      "outputs": []
    },
    {
      "cell_type": "code",
      "source": [
        "#Read in and view the training file\n",
        "train = pd.read_csv('/content/train.csv')\n",
        "display(train.head())\n",
        "train.shape"
      ],
      "metadata": {
        "colab": {
          "base_uri": "https://localhost:8080/",
          "height": 335
        },
        "id": "1tv5vO4s1fdZ",
        "outputId": "2c56ce2e-a10b-4b2e-bced-04431ca262fa"
      },
      "execution_count": null,
      "outputs": [
        {
          "output_type": "display_data",
          "data": {
            "text/plain": [
              "   tBodyAcc-mean()-X  tBodyAcc-mean()-Y  tBodyAcc-mean()-Z  tBodyAcc-std()-X  \\\n",
              "0           0.288585          -0.020294          -0.132905         -0.995279   \n",
              "1           0.278419          -0.016411          -0.123520         -0.998245   \n",
              "2           0.279653          -0.019467          -0.113462         -0.995380   \n",
              "3           0.279174          -0.026201          -0.123283         -0.996091   \n",
              "4           0.276629          -0.016570          -0.115362         -0.998139   \n",
              "\n",
              "   tBodyAcc-std()-Y  tBodyAcc-std()-Z  tBodyAcc-mad()-X  tBodyAcc-mad()-Y  \\\n",
              "0         -0.983111         -0.913526         -0.995112         -0.983185   \n",
              "1         -0.975300         -0.960322         -0.998807         -0.974914   \n",
              "2         -0.967187         -0.978944         -0.996520         -0.963668   \n",
              "3         -0.983403         -0.990675         -0.997099         -0.982750   \n",
              "4         -0.980817         -0.990482         -0.998321         -0.979672   \n",
              "\n",
              "   tBodyAcc-mad()-Z  tBodyAcc-max()-X  ...  fBodyBodyGyroJerkMag-kurtosis()  \\\n",
              "0         -0.923527         -0.934724  ...                        -0.710304   \n",
              "1         -0.957686         -0.943068  ...                        -0.861499   \n",
              "2         -0.977469         -0.938692  ...                        -0.760104   \n",
              "3         -0.989302         -0.938692  ...                        -0.482845   \n",
              "4         -0.990441         -0.942469  ...                        -0.699205   \n",
              "\n",
              "   angle(tBodyAccMean,gravity)  angle(tBodyAccJerkMean),gravityMean)  \\\n",
              "0                    -0.112754                              0.030400   \n",
              "1                     0.053477                             -0.007435   \n",
              "2                    -0.118559                              0.177899   \n",
              "3                    -0.036788                             -0.012892   \n",
              "4                     0.123320                              0.122542   \n",
              "\n",
              "   angle(tBodyGyroMean,gravityMean)  angle(tBodyGyroJerkMean,gravityMean)  \\\n",
              "0                         -0.464761                             -0.018446   \n",
              "1                         -0.732626                              0.703511   \n",
              "2                          0.100699                              0.808529   \n",
              "3                          0.640011                             -0.485366   \n",
              "4                          0.693578                             -0.615971   \n",
              "\n",
              "   angle(X,gravityMean)  angle(Y,gravityMean)  angle(Z,gravityMean)  subject  \\\n",
              "0             -0.841247              0.179941             -0.058627        1   \n",
              "1             -0.844788              0.180289             -0.054317        1   \n",
              "2             -0.848933              0.180637             -0.049118        1   \n",
              "3             -0.848649              0.181935             -0.047663        1   \n",
              "4             -0.847865              0.185151             -0.043892        1   \n",
              "\n",
              "   Activity  \n",
              "0  STANDING  \n",
              "1  STANDING  \n",
              "2  STANDING  \n",
              "3  STANDING  \n",
              "4  STANDING  \n",
              "\n",
              "[5 rows x 563 columns]"
            ],
            "text/html": [
              "\n",
              "  <div id=\"df-f585f232-d96a-4732-a2fc-1f7638d210e6\">\n",
              "    <div class=\"colab-df-container\">\n",
              "      <div>\n",
              "<style scoped>\n",
              "    .dataframe tbody tr th:only-of-type {\n",
              "        vertical-align: middle;\n",
              "    }\n",
              "\n",
              "    .dataframe tbody tr th {\n",
              "        vertical-align: top;\n",
              "    }\n",
              "\n",
              "    .dataframe thead th {\n",
              "        text-align: right;\n",
              "    }\n",
              "</style>\n",
              "<table border=\"1\" class=\"dataframe\">\n",
              "  <thead>\n",
              "    <tr style=\"text-align: right;\">\n",
              "      <th></th>\n",
              "      <th>tBodyAcc-mean()-X</th>\n",
              "      <th>tBodyAcc-mean()-Y</th>\n",
              "      <th>tBodyAcc-mean()-Z</th>\n",
              "      <th>tBodyAcc-std()-X</th>\n",
              "      <th>tBodyAcc-std()-Y</th>\n",
              "      <th>tBodyAcc-std()-Z</th>\n",
              "      <th>tBodyAcc-mad()-X</th>\n",
              "      <th>tBodyAcc-mad()-Y</th>\n",
              "      <th>tBodyAcc-mad()-Z</th>\n",
              "      <th>tBodyAcc-max()-X</th>\n",
              "      <th>...</th>\n",
              "      <th>fBodyBodyGyroJerkMag-kurtosis()</th>\n",
              "      <th>angle(tBodyAccMean,gravity)</th>\n",
              "      <th>angle(tBodyAccJerkMean),gravityMean)</th>\n",
              "      <th>angle(tBodyGyroMean,gravityMean)</th>\n",
              "      <th>angle(tBodyGyroJerkMean,gravityMean)</th>\n",
              "      <th>angle(X,gravityMean)</th>\n",
              "      <th>angle(Y,gravityMean)</th>\n",
              "      <th>angle(Z,gravityMean)</th>\n",
              "      <th>subject</th>\n",
              "      <th>Activity</th>\n",
              "    </tr>\n",
              "  </thead>\n",
              "  <tbody>\n",
              "    <tr>\n",
              "      <th>0</th>\n",
              "      <td>0.288585</td>\n",
              "      <td>-0.020294</td>\n",
              "      <td>-0.132905</td>\n",
              "      <td>-0.995279</td>\n",
              "      <td>-0.983111</td>\n",
              "      <td>-0.913526</td>\n",
              "      <td>-0.995112</td>\n",
              "      <td>-0.983185</td>\n",
              "      <td>-0.923527</td>\n",
              "      <td>-0.934724</td>\n",
              "      <td>...</td>\n",
              "      <td>-0.710304</td>\n",
              "      <td>-0.112754</td>\n",
              "      <td>0.030400</td>\n",
              "      <td>-0.464761</td>\n",
              "      <td>-0.018446</td>\n",
              "      <td>-0.841247</td>\n",
              "      <td>0.179941</td>\n",
              "      <td>-0.058627</td>\n",
              "      <td>1</td>\n",
              "      <td>STANDING</td>\n",
              "    </tr>\n",
              "    <tr>\n",
              "      <th>1</th>\n",
              "      <td>0.278419</td>\n",
              "      <td>-0.016411</td>\n",
              "      <td>-0.123520</td>\n",
              "      <td>-0.998245</td>\n",
              "      <td>-0.975300</td>\n",
              "      <td>-0.960322</td>\n",
              "      <td>-0.998807</td>\n",
              "      <td>-0.974914</td>\n",
              "      <td>-0.957686</td>\n",
              "      <td>-0.943068</td>\n",
              "      <td>...</td>\n",
              "      <td>-0.861499</td>\n",
              "      <td>0.053477</td>\n",
              "      <td>-0.007435</td>\n",
              "      <td>-0.732626</td>\n",
              "      <td>0.703511</td>\n",
              "      <td>-0.844788</td>\n",
              "      <td>0.180289</td>\n",
              "      <td>-0.054317</td>\n",
              "      <td>1</td>\n",
              "      <td>STANDING</td>\n",
              "    </tr>\n",
              "    <tr>\n",
              "      <th>2</th>\n",
              "      <td>0.279653</td>\n",
              "      <td>-0.019467</td>\n",
              "      <td>-0.113462</td>\n",
              "      <td>-0.995380</td>\n",
              "      <td>-0.967187</td>\n",
              "      <td>-0.978944</td>\n",
              "      <td>-0.996520</td>\n",
              "      <td>-0.963668</td>\n",
              "      <td>-0.977469</td>\n",
              "      <td>-0.938692</td>\n",
              "      <td>...</td>\n",
              "      <td>-0.760104</td>\n",
              "      <td>-0.118559</td>\n",
              "      <td>0.177899</td>\n",
              "      <td>0.100699</td>\n",
              "      <td>0.808529</td>\n",
              "      <td>-0.848933</td>\n",
              "      <td>0.180637</td>\n",
              "      <td>-0.049118</td>\n",
              "      <td>1</td>\n",
              "      <td>STANDING</td>\n",
              "    </tr>\n",
              "    <tr>\n",
              "      <th>3</th>\n",
              "      <td>0.279174</td>\n",
              "      <td>-0.026201</td>\n",
              "      <td>-0.123283</td>\n",
              "      <td>-0.996091</td>\n",
              "      <td>-0.983403</td>\n",
              "      <td>-0.990675</td>\n",
              "      <td>-0.997099</td>\n",
              "      <td>-0.982750</td>\n",
              "      <td>-0.989302</td>\n",
              "      <td>-0.938692</td>\n",
              "      <td>...</td>\n",
              "      <td>-0.482845</td>\n",
              "      <td>-0.036788</td>\n",
              "      <td>-0.012892</td>\n",
              "      <td>0.640011</td>\n",
              "      <td>-0.485366</td>\n",
              "      <td>-0.848649</td>\n",
              "      <td>0.181935</td>\n",
              "      <td>-0.047663</td>\n",
              "      <td>1</td>\n",
              "      <td>STANDING</td>\n",
              "    </tr>\n",
              "    <tr>\n",
              "      <th>4</th>\n",
              "      <td>0.276629</td>\n",
              "      <td>-0.016570</td>\n",
              "      <td>-0.115362</td>\n",
              "      <td>-0.998139</td>\n",
              "      <td>-0.980817</td>\n",
              "      <td>-0.990482</td>\n",
              "      <td>-0.998321</td>\n",
              "      <td>-0.979672</td>\n",
              "      <td>-0.990441</td>\n",
              "      <td>-0.942469</td>\n",
              "      <td>...</td>\n",
              "      <td>-0.699205</td>\n",
              "      <td>0.123320</td>\n",
              "      <td>0.122542</td>\n",
              "      <td>0.693578</td>\n",
              "      <td>-0.615971</td>\n",
              "      <td>-0.847865</td>\n",
              "      <td>0.185151</td>\n",
              "      <td>-0.043892</td>\n",
              "      <td>1</td>\n",
              "      <td>STANDING</td>\n",
              "    </tr>\n",
              "  </tbody>\n",
              "</table>\n",
              "<p>5 rows × 563 columns</p>\n",
              "</div>\n",
              "      <button class=\"colab-df-convert\" onclick=\"convertToInteractive('df-f585f232-d96a-4732-a2fc-1f7638d210e6')\"\n",
              "              title=\"Convert this dataframe to an interactive table.\"\n",
              "              style=\"display:none;\">\n",
              "        \n",
              "  <svg xmlns=\"http://www.w3.org/2000/svg\" height=\"24px\"viewBox=\"0 0 24 24\"\n",
              "       width=\"24px\">\n",
              "    <path d=\"M0 0h24v24H0V0z\" fill=\"none\"/>\n",
              "    <path d=\"M18.56 5.44l.94 2.06.94-2.06 2.06-.94-2.06-.94-.94-2.06-.94 2.06-2.06.94zm-11 1L8.5 8.5l.94-2.06 2.06-.94-2.06-.94L8.5 2.5l-.94 2.06-2.06.94zm10 10l.94 2.06.94-2.06 2.06-.94-2.06-.94-.94-2.06-.94 2.06-2.06.94z\"/><path d=\"M17.41 7.96l-1.37-1.37c-.4-.4-.92-.59-1.43-.59-.52 0-1.04.2-1.43.59L10.3 9.45l-7.72 7.72c-.78.78-.78 2.05 0 2.83L4 21.41c.39.39.9.59 1.41.59.51 0 1.02-.2 1.41-.59l7.78-7.78 2.81-2.81c.8-.78.8-2.07 0-2.86zM5.41 20L4 18.59l7.72-7.72 1.47 1.35L5.41 20z\"/>\n",
              "  </svg>\n",
              "      </button>\n",
              "      \n",
              "  <style>\n",
              "    .colab-df-container {\n",
              "      display:flex;\n",
              "      flex-wrap:wrap;\n",
              "      gap: 12px;\n",
              "    }\n",
              "\n",
              "    .colab-df-convert {\n",
              "      background-color: #E8F0FE;\n",
              "      border: none;\n",
              "      border-radius: 50%;\n",
              "      cursor: pointer;\n",
              "      display: none;\n",
              "      fill: #1967D2;\n",
              "      height: 32px;\n",
              "      padding: 0 0 0 0;\n",
              "      width: 32px;\n",
              "    }\n",
              "\n",
              "    .colab-df-convert:hover {\n",
              "      background-color: #E2EBFA;\n",
              "      box-shadow: 0px 1px 2px rgba(60, 64, 67, 0.3), 0px 1px 3px 1px rgba(60, 64, 67, 0.15);\n",
              "      fill: #174EA6;\n",
              "    }\n",
              "\n",
              "    [theme=dark] .colab-df-convert {\n",
              "      background-color: #3B4455;\n",
              "      fill: #D2E3FC;\n",
              "    }\n",
              "\n",
              "    [theme=dark] .colab-df-convert:hover {\n",
              "      background-color: #434B5C;\n",
              "      box-shadow: 0px 1px 3px 1px rgba(0, 0, 0, 0.15);\n",
              "      filter: drop-shadow(0px 1px 2px rgba(0, 0, 0, 0.3));\n",
              "      fill: #FFFFFF;\n",
              "    }\n",
              "  </style>\n",
              "\n",
              "      <script>\n",
              "        const buttonEl =\n",
              "          document.querySelector('#df-f585f232-d96a-4732-a2fc-1f7638d210e6 button.colab-df-convert');\n",
              "        buttonEl.style.display =\n",
              "          google.colab.kernel.accessAllowed ? 'block' : 'none';\n",
              "\n",
              "        async function convertToInteractive(key) {\n",
              "          const element = document.querySelector('#df-f585f232-d96a-4732-a2fc-1f7638d210e6');\n",
              "          const dataTable =\n",
              "            await google.colab.kernel.invokeFunction('convertToInteractive',\n",
              "                                                     [key], {});\n",
              "          if (!dataTable) return;\n",
              "\n",
              "          const docLinkHtml = 'Like what you see? Visit the ' +\n",
              "            '<a target=\"_blank\" href=https://colab.research.google.com/notebooks/data_table.ipynb>data table notebook</a>'\n",
              "            + ' to learn more about interactive tables.';\n",
              "          element.innerHTML = '';\n",
              "          dataTable['output_type'] = 'display_data';\n",
              "          await google.colab.output.renderOutput(dataTable, element);\n",
              "          const docLink = document.createElement('div');\n",
              "          docLink.innerHTML = docLinkHtml;\n",
              "          element.appendChild(docLink);\n",
              "        }\n",
              "      </script>\n",
              "    </div>\n",
              "  </div>\n",
              "  "
            ]
          },
          "metadata": {}
        },
        {
          "output_type": "execute_result",
          "data": {
            "text/plain": [
              "(7352, 563)"
            ]
          },
          "metadata": {},
          "execution_count": 22
        }
      ]
    },
    {
      "cell_type": "code",
      "source": [
        "train.dropna(inplace=True)"
      ],
      "metadata": {
        "id": "BtuQlBdnnc0K"
      },
      "execution_count": null,
      "outputs": []
    },
    {
      "cell_type": "code",
      "source": [
        "# model equation \n",
        "model = LogisticRegression(multi_class='multinomial', solver='newton-cg')"
      ],
      "metadata": {
        "id": "eMTVyGoz1p66"
      },
      "execution_count": null,
      "outputs": []
    },
    {
      "cell_type": "code",
      "source": [
        "# Analyze the unique activities\n",
        "train['Activity'].unique()"
      ],
      "metadata": {
        "colab": {
          "base_uri": "https://localhost:8080/"
        },
        "id": "UP4045cz5-II",
        "outputId": "9aff50f5-1967-4e80-c7cd-c4613d3f0149"
      },
      "execution_count": null,
      "outputs": [
        {
          "output_type": "execute_result",
          "data": {
            "text/plain": [
              "array(['STANDING', 'SITTING', 'LAYING', 'WALKING', 'WALKING_DOWNSTAIRS',\n",
              "       'WALKING_UPSTAIRS'], dtype=object)"
            ]
          },
          "metadata": {},
          "execution_count": 25
        }
      ]
    },
    {
      "cell_type": "code",
      "source": [
        "# Encoding the Activity column \n",
        "# Ordinal Encoding\n",
        "train['Activity'].unique()\n",
        "ordinal_encoding = {'STANDING': 1, 'SITTING': 2, 'LAYING': 3, 'WALKING': 4, 'WALKING_DOWNSTAIRS': 5, 'WALKING_UPSTAIRS': 6}\n",
        "train['Activity'] = train['Activity'].replace(ordinal_encoding)\n",
        "test['Activity'] = test['Activity'].replace(ordinal_encoding)"
      ],
      "metadata": {
        "id": "HcrC4v2M4CMS"
      },
      "execution_count": null,
      "outputs": []
    },
    {
      "cell_type": "code",
      "source": [
        "# X, Y for train set \n",
        "\n",
        "# X_train = train[:-2]\n",
        "# X_train.loc[X_train.index.max() + 1, :] = 0\n",
        "# activity = train.columns[-1]\n",
        "# Y_train= train[activity]\n",
        "\n",
        "X_train = train.drop(['subject','Activity'],axis=1)\n",
        "Y_train= train['Activity']\n",
        "\n",
        "u = len(X_train)\n",
        "v = len(Y_train)\n",
        "\n",
        "print(u,v)"
      ],
      "metadata": {
        "id": "Rl4MhrPmtX93",
        "colab": {
          "base_uri": "https://localhost:8080/"
        },
        "outputId": "f1dedcaf-562a-47cb-ddda-321b72ae91e2"
      },
      "execution_count": null,
      "outputs": [
        {
          "output_type": "stream",
          "name": "stdout",
          "text": [
            "7352 7352\n"
          ]
        }
      ]
    },
    {
      "cell_type": "code",
      "source": [
        "# X, Y for test set \n",
        "\n",
        "# X_test = test[:-2]\n",
        "# X_test.loc[X_test.index.max() + 1, :] = 0\n",
        "# X_test.loc[X_test.index.max() + 1, :] = 0\n",
        "# activity_test = test.columns[-1]\n",
        "# Y_test= test[activity_test]\n",
        "\n",
        "X_test = test.drop(['subject','Activity'],axis=1)\n",
        "Y_test= test['Activity']\n",
        "\n",
        "x = len(X_test)\n",
        "y = len(Y_test)\n",
        "\n",
        "print(x,y)\n"
      ],
      "metadata": {
        "colab": {
          "base_uri": "https://localhost:8080/"
        },
        "id": "sKXaJxz02_zE",
        "outputId": "b95da101-80e1-472e-8527-d693ba29cfae"
      },
      "execution_count": null,
      "outputs": [
        {
          "output_type": "stream",
          "name": "stdout",
          "text": [
            "2947 2947\n"
          ]
        }
      ]
    },
    {
      "cell_type": "code",
      "source": [
        "# Fitting the model\n",
        "\n",
        "model.fit(X_train, Y_train)"
      ],
      "metadata": {
        "colab": {
          "base_uri": "https://localhost:8080/",
          "height": 74
        },
        "id": "_CXgwMvP3Sw8",
        "outputId": "0f0eacc8-165a-4ae5-c3e8-353dcd44268a"
      },
      "execution_count": null,
      "outputs": [
        {
          "output_type": "execute_result",
          "data": {
            "text/plain": [
              "LogisticRegression(multi_class='multinomial', solver='newton-cg')"
            ],
            "text/html": [
              "<style>#sk-container-id-2 {color: black;background-color: white;}#sk-container-id-2 pre{padding: 0;}#sk-container-id-2 div.sk-toggleable {background-color: white;}#sk-container-id-2 label.sk-toggleable__label {cursor: pointer;display: block;width: 100%;margin-bottom: 0;padding: 0.3em;box-sizing: border-box;text-align: center;}#sk-container-id-2 label.sk-toggleable__label-arrow:before {content: \"▸\";float: left;margin-right: 0.25em;color: #696969;}#sk-container-id-2 label.sk-toggleable__label-arrow:hover:before {color: black;}#sk-container-id-2 div.sk-estimator:hover label.sk-toggleable__label-arrow:before {color: black;}#sk-container-id-2 div.sk-toggleable__content {max-height: 0;max-width: 0;overflow: hidden;text-align: left;background-color: #f0f8ff;}#sk-container-id-2 div.sk-toggleable__content pre {margin: 0.2em;color: black;border-radius: 0.25em;background-color: #f0f8ff;}#sk-container-id-2 input.sk-toggleable__control:checked~div.sk-toggleable__content {max-height: 200px;max-width: 100%;overflow: auto;}#sk-container-id-2 input.sk-toggleable__control:checked~label.sk-toggleable__label-arrow:before {content: \"▾\";}#sk-container-id-2 div.sk-estimator input.sk-toggleable__control:checked~label.sk-toggleable__label {background-color: #d4ebff;}#sk-container-id-2 div.sk-label input.sk-toggleable__control:checked~label.sk-toggleable__label {background-color: #d4ebff;}#sk-container-id-2 input.sk-hidden--visually {border: 0;clip: rect(1px 1px 1px 1px);clip: rect(1px, 1px, 1px, 1px);height: 1px;margin: -1px;overflow: hidden;padding: 0;position: absolute;width: 1px;}#sk-container-id-2 div.sk-estimator {font-family: monospace;background-color: #f0f8ff;border: 1px dotted black;border-radius: 0.25em;box-sizing: border-box;margin-bottom: 0.5em;}#sk-container-id-2 div.sk-estimator:hover {background-color: #d4ebff;}#sk-container-id-2 div.sk-parallel-item::after {content: \"\";width: 100%;border-bottom: 1px solid gray;flex-grow: 1;}#sk-container-id-2 div.sk-label:hover label.sk-toggleable__label {background-color: #d4ebff;}#sk-container-id-2 div.sk-serial::before {content: \"\";position: absolute;border-left: 1px solid gray;box-sizing: border-box;top: 0;bottom: 0;left: 50%;z-index: 0;}#sk-container-id-2 div.sk-serial {display: flex;flex-direction: column;align-items: center;background-color: white;padding-right: 0.2em;padding-left: 0.2em;position: relative;}#sk-container-id-2 div.sk-item {position: relative;z-index: 1;}#sk-container-id-2 div.sk-parallel {display: flex;align-items: stretch;justify-content: center;background-color: white;position: relative;}#sk-container-id-2 div.sk-item::before, #sk-container-id-2 div.sk-parallel-item::before {content: \"\";position: absolute;border-left: 1px solid gray;box-sizing: border-box;top: 0;bottom: 0;left: 50%;z-index: -1;}#sk-container-id-2 div.sk-parallel-item {display: flex;flex-direction: column;z-index: 1;position: relative;background-color: white;}#sk-container-id-2 div.sk-parallel-item:first-child::after {align-self: flex-end;width: 50%;}#sk-container-id-2 div.sk-parallel-item:last-child::after {align-self: flex-start;width: 50%;}#sk-container-id-2 div.sk-parallel-item:only-child::after {width: 0;}#sk-container-id-2 div.sk-dashed-wrapped {border: 1px dashed gray;margin: 0 0.4em 0.5em 0.4em;box-sizing: border-box;padding-bottom: 0.4em;background-color: white;}#sk-container-id-2 div.sk-label label {font-family: monospace;font-weight: bold;display: inline-block;line-height: 1.2em;}#sk-container-id-2 div.sk-label-container {text-align: center;}#sk-container-id-2 div.sk-container {/* jupyter's `normalize.less` sets `[hidden] { display: none; }` but bootstrap.min.css set `[hidden] { display: none !important; }` so we also need the `!important` here to be able to override the default hidden behavior on the sphinx rendered scikit-learn.org. See: https://github.com/scikit-learn/scikit-learn/issues/21755 */display: inline-block !important;position: relative;}#sk-container-id-2 div.sk-text-repr-fallback {display: none;}</style><div id=\"sk-container-id-2\" class=\"sk-top-container\"><div class=\"sk-text-repr-fallback\"><pre>LogisticRegression(multi_class=&#x27;multinomial&#x27;, solver=&#x27;newton-cg&#x27;)</pre><b>In a Jupyter environment, please rerun this cell to show the HTML representation or trust the notebook. <br />On GitHub, the HTML representation is unable to render, please try loading this page with nbviewer.org.</b></div><div class=\"sk-container\" hidden><div class=\"sk-item\"><div class=\"sk-estimator sk-toggleable\"><input class=\"sk-toggleable__control sk-hidden--visually\" id=\"sk-estimator-id-2\" type=\"checkbox\" checked><label for=\"sk-estimator-id-2\" class=\"sk-toggleable__label sk-toggleable__label-arrow\">LogisticRegression</label><div class=\"sk-toggleable__content\"><pre>LogisticRegression(multi_class=&#x27;multinomial&#x27;, solver=&#x27;newton-cg&#x27;)</pre></div></div></div></div></div>"
            ]
          },
          "metadata": {},
          "execution_count": 29
        }
      ]
    },
    {
      "cell_type": "code",
      "source": [
        "# Use the model to predict\n",
        "\n",
        "Y_pred = model.predict(X_test)"
      ],
      "metadata": {
        "id": "MeMoqNWyaMwp"
      },
      "execution_count": null,
      "outputs": []
    },
    {
      "cell_type": "code",
      "source": [
        "#Prepare for AIC and BIC\n",
        "from sklearn.metrics import mean_squared_error\n",
        "\n",
        "#Y_train_pred = model.predict(X_train)\n",
        "\n",
        "# Calculate the error\n",
        "mse = mean_squared_error(Y_test, Y_pred)\n",
        "display('MSE: {}'.format(mse))\n",
        "\n",
        "# Calculate number of parameters\n",
        "num_params = len(model.coef_) + 1\n",
        "display('# Parameters: {}'.format(num_params))\n",
        "\n",
        "# Number of samples\n",
        "n = len(Y_test)\n",
        "print('# Samples: {}'.format(n))"
      ],
      "metadata": {
        "colab": {
          "base_uri": "https://localhost:8080/",
          "height": 73
        },
        "id": "0t1mxBh9ac77",
        "outputId": "1968af63-7201-42af-894c-d2121e20d50c"
      },
      "execution_count": null,
      "outputs": [
        {
          "output_type": "display_data",
          "data": {
            "text/plain": [
              "'MSE: 0.0821174075330845'"
            ],
            "application/vnd.google.colaboratory.intrinsic+json": {
              "type": "string"
            }
          },
          "metadata": {}
        },
        {
          "output_type": "display_data",
          "data": {
            "text/plain": [
              "'# Parameters: 7'"
            ],
            "application/vnd.google.colaboratory.intrinsic+json": {
              "type": "string"
            }
          },
          "metadata": {}
        },
        {
          "output_type": "stream",
          "name": "stdout",
          "text": [
            "# Samples: 2947\n"
          ]
        }
      ]
    },
    {
      "cell_type": "code",
      "source": [
        "from math import log\n",
        "\n",
        "# Calculate AIC\n",
        "\n",
        "def calculate_aic(n, mse, num_params):\n",
        "  aic = n * log(mse) + 2 * num_params\n",
        "  return aic\n",
        "\n",
        "display('AIC: {}'.format(calculate_aic(n,mse,num_params)))\n",
        "\n",
        "# Calculate BIC\n",
        "\n",
        "def calculate_bic(n, mse, num_params):\n",
        " bic = n * log(mse) + num_params * log(n)\n",
        " return bic\n",
        "\n",
        "display('BIC: {}'.format(calculate_bic(n,mse,num_params)))"
      ],
      "metadata": {
        "colab": {
          "base_uri": "https://localhost:8080/",
          "height": 55
        },
        "id": "pdVErkswash0",
        "outputId": "f3662c6f-1d4f-47cb-a4b2-25cbbb7efd92"
      },
      "execution_count": null,
      "outputs": [
        {
          "output_type": "display_data",
          "data": {
            "text/plain": [
              "'AIC: -7352.336691144232'"
            ],
            "application/vnd.google.colaboratory.intrinsic+json": {
              "type": "string"
            }
          },
          "metadata": {}
        },
        {
          "output_type": "display_data",
          "data": {
            "text/plain": [
              "'BIC: -7310.416890265068'"
            ],
            "application/vnd.google.colaboratory.intrinsic+json": {
              "type": "string"
            }
          },
          "metadata": {}
        }
      ]
    },
    {
      "cell_type": "code",
      "source": [
        "# KFold Cross-validation\n",
        "from sklearn.model_selection import KFold, cross_val_score\n",
        "\n",
        "cv = KFold(n_splits=5, shuffle=True, random_state=1)\n",
        "result = cross_val_score(model, X_train, Y_train, cv=cv, scoring='accuracy')"
      ],
      "metadata": {
        "id": "JBvVeL1pX1jE"
      },
      "execution_count": null,
      "outputs": []
    },
    {
      "cell_type": "code",
      "source": [
        "# print the score\n",
        "result"
      ],
      "metadata": {
        "colab": {
          "base_uri": "https://localhost:8080/"
        },
        "id": "YkxbCpfmgSKf",
        "outputId": "c3011bea-a2f6-448e-9340-bb934105d56b"
      },
      "execution_count": null,
      "outputs": [
        {
          "output_type": "execute_result",
          "data": {
            "text/plain": [
              "array([0.98912305, 0.98980286, 0.98435374, 0.98163265, 0.98367347])"
            ]
          },
          "metadata": {},
          "execution_count": 34
        }
      ]
    },
    {
      "cell_type": "markdown",
      "source": [
        "# Method 1: a) Doing a 70-30 Split & checking fit\n",
        "\n",
        "Data from test and train were concatenated and then a 70%-30% split was done."
      ],
      "metadata": {
        "id": "P9GT1aWavliL"
      }
    },
    {
      "cell_type": "code",
      "source": [
        "test.columns"
      ],
      "metadata": {
        "colab": {
          "base_uri": "https://localhost:8080/"
        },
        "id": "MuabP3n9xG0u",
        "outputId": "9b264aec-cccb-47e5-f826-ece7d59df005"
      },
      "execution_count": null,
      "outputs": [
        {
          "output_type": "execute_result",
          "data": {
            "text/plain": [
              "Index(['tBodyAcc-mean()-X', 'tBodyAcc-mean()-Y', 'tBodyAcc-mean()-Z',\n",
              "       'tBodyAcc-std()-X', 'tBodyAcc-std()-Y', 'tBodyAcc-std()-Z',\n",
              "       'tBodyAcc-mad()-X', 'tBodyAcc-mad()-Y', 'tBodyAcc-mad()-Z',\n",
              "       'tBodyAcc-max()-X',\n",
              "       ...\n",
              "       'fBodyBodyGyroJerkMag-kurtosis()', 'angle(tBodyAccMean,gravity)',\n",
              "       'angle(tBodyAccJerkMean),gravityMean)',\n",
              "       'angle(tBodyGyroMean,gravityMean)',\n",
              "       'angle(tBodyGyroJerkMean,gravityMean)', 'angle(X,gravityMean)',\n",
              "       'angle(Y,gravityMean)', 'angle(Z,gravityMean)', 'subject', 'Activity'],\n",
              "      dtype='object', length=563)"
            ]
          },
          "metadata": {},
          "execution_count": 35
        }
      ]
    },
    {
      "cell_type": "code",
      "source": [
        "train.columns"
      ],
      "metadata": {
        "colab": {
          "base_uri": "https://localhost:8080/"
        },
        "id": "ucIt-S4pxP_e",
        "outputId": "65abf5ad-b8b5-41a6-9fe9-6c94a142a1c9"
      },
      "execution_count": null,
      "outputs": [
        {
          "output_type": "execute_result",
          "data": {
            "text/plain": [
              "Index(['tBodyAcc-mean()-X', 'tBodyAcc-mean()-Y', 'tBodyAcc-mean()-Z',\n",
              "       'tBodyAcc-std()-X', 'tBodyAcc-std()-Y', 'tBodyAcc-std()-Z',\n",
              "       'tBodyAcc-mad()-X', 'tBodyAcc-mad()-Y', 'tBodyAcc-mad()-Z',\n",
              "       'tBodyAcc-max()-X',\n",
              "       ...\n",
              "       'fBodyBodyGyroJerkMag-kurtosis()', 'angle(tBodyAccMean,gravity)',\n",
              "       'angle(tBodyAccJerkMean),gravityMean)',\n",
              "       'angle(tBodyGyroMean,gravityMean)',\n",
              "       'angle(tBodyGyroJerkMean,gravityMean)', 'angle(X,gravityMean)',\n",
              "       'angle(Y,gravityMean)', 'angle(Z,gravityMean)', 'subject', 'Activity'],\n",
              "      dtype='object', length=563)"
            ]
          },
          "metadata": {},
          "execution_count": 36
        }
      ]
    },
    {
      "cell_type": "code",
      "source": [
        "Q = pd.concat([train, test], ignore_index=True)"
      ],
      "metadata": {
        "id": "CSqYqkrjxSYS"
      },
      "execution_count": null,
      "outputs": []
    },
    {
      "cell_type": "code",
      "source": [
        "train_df, test_df = train_test_split(Q, test_size=0.3, random_state=42)"
      ],
      "metadata": {
        "id": "Ud793JK8xhR_"
      },
      "execution_count": null,
      "outputs": []
    },
    {
      "cell_type": "code",
      "source": [
        "# Z, Q for train set \n",
        "\n",
        "Z_train = train_df.drop(['subject','Activity'],axis = 1)\n",
        "Q_train = train_df['Activity']\n",
        "\n",
        "\n",
        "n = len(Z_train)\n",
        "t = len(Q_train)\n",
        "\n",
        "print(n,t)"
      ],
      "metadata": {
        "colab": {
          "base_uri": "https://localhost:8080/"
        },
        "id": "Alo59D-G8yDF",
        "outputId": "733dd643-bdf8-4cdb-c84d-185a40849317"
      },
      "execution_count": null,
      "outputs": [
        {
          "output_type": "stream",
          "name": "stdout",
          "text": [
            "7209 7209\n"
          ]
        }
      ]
    },
    {
      "cell_type": "code",
      "source": [
        "# Z, Q for test set \n",
        "\n",
        "Z_test = test_df.drop(['subject','Activity'], axis = 1) \n",
        "Q_test= test_df['Activity']\n",
        "\n",
        "\n",
        "w = len(Z_test)\n",
        "v = len(Q_test)\n",
        "\n",
        "print(w,v)\n"
      ],
      "metadata": {
        "colab": {
          "base_uri": "https://localhost:8080/"
        },
        "id": "Ib1YeLMa8_V3",
        "outputId": "a240cac1-bf71-4bf9-aef6-ffcb47013f11"
      },
      "execution_count": null,
      "outputs": [
        {
          "output_type": "stream",
          "name": "stdout",
          "text": [
            "3090 3090\n"
          ]
        }
      ]
    },
    {
      "cell_type": "code",
      "source": [
        "# Fitting the model\n",
        "model.fit(Z_train, Q_train)"
      ],
      "metadata": {
        "colab": {
          "base_uri": "https://localhost:8080/",
          "height": 74
        },
        "id": "t0jPQKuJuR2J",
        "outputId": "d64d308e-6ce5-41cf-f37b-43ebcd1e01c5"
      },
      "execution_count": null,
      "outputs": [
        {
          "output_type": "execute_result",
          "data": {
            "text/plain": [
              "LogisticRegression(multi_class='multinomial', solver='newton-cg')"
            ],
            "text/html": [
              "<style>#sk-container-id-3 {color: black;background-color: white;}#sk-container-id-3 pre{padding: 0;}#sk-container-id-3 div.sk-toggleable {background-color: white;}#sk-container-id-3 label.sk-toggleable__label {cursor: pointer;display: block;width: 100%;margin-bottom: 0;padding: 0.3em;box-sizing: border-box;text-align: center;}#sk-container-id-3 label.sk-toggleable__label-arrow:before {content: \"▸\";float: left;margin-right: 0.25em;color: #696969;}#sk-container-id-3 label.sk-toggleable__label-arrow:hover:before {color: black;}#sk-container-id-3 div.sk-estimator:hover label.sk-toggleable__label-arrow:before {color: black;}#sk-container-id-3 div.sk-toggleable__content {max-height: 0;max-width: 0;overflow: hidden;text-align: left;background-color: #f0f8ff;}#sk-container-id-3 div.sk-toggleable__content pre {margin: 0.2em;color: black;border-radius: 0.25em;background-color: #f0f8ff;}#sk-container-id-3 input.sk-toggleable__control:checked~div.sk-toggleable__content {max-height: 200px;max-width: 100%;overflow: auto;}#sk-container-id-3 input.sk-toggleable__control:checked~label.sk-toggleable__label-arrow:before {content: \"▾\";}#sk-container-id-3 div.sk-estimator input.sk-toggleable__control:checked~label.sk-toggleable__label {background-color: #d4ebff;}#sk-container-id-3 div.sk-label input.sk-toggleable__control:checked~label.sk-toggleable__label {background-color: #d4ebff;}#sk-container-id-3 input.sk-hidden--visually {border: 0;clip: rect(1px 1px 1px 1px);clip: rect(1px, 1px, 1px, 1px);height: 1px;margin: -1px;overflow: hidden;padding: 0;position: absolute;width: 1px;}#sk-container-id-3 div.sk-estimator {font-family: monospace;background-color: #f0f8ff;border: 1px dotted black;border-radius: 0.25em;box-sizing: border-box;margin-bottom: 0.5em;}#sk-container-id-3 div.sk-estimator:hover {background-color: #d4ebff;}#sk-container-id-3 div.sk-parallel-item::after {content: \"\";width: 100%;border-bottom: 1px solid gray;flex-grow: 1;}#sk-container-id-3 div.sk-label:hover label.sk-toggleable__label {background-color: #d4ebff;}#sk-container-id-3 div.sk-serial::before {content: \"\";position: absolute;border-left: 1px solid gray;box-sizing: border-box;top: 0;bottom: 0;left: 50%;z-index: 0;}#sk-container-id-3 div.sk-serial {display: flex;flex-direction: column;align-items: center;background-color: white;padding-right: 0.2em;padding-left: 0.2em;position: relative;}#sk-container-id-3 div.sk-item {position: relative;z-index: 1;}#sk-container-id-3 div.sk-parallel {display: flex;align-items: stretch;justify-content: center;background-color: white;position: relative;}#sk-container-id-3 div.sk-item::before, #sk-container-id-3 div.sk-parallel-item::before {content: \"\";position: absolute;border-left: 1px solid gray;box-sizing: border-box;top: 0;bottom: 0;left: 50%;z-index: -1;}#sk-container-id-3 div.sk-parallel-item {display: flex;flex-direction: column;z-index: 1;position: relative;background-color: white;}#sk-container-id-3 div.sk-parallel-item:first-child::after {align-self: flex-end;width: 50%;}#sk-container-id-3 div.sk-parallel-item:last-child::after {align-self: flex-start;width: 50%;}#sk-container-id-3 div.sk-parallel-item:only-child::after {width: 0;}#sk-container-id-3 div.sk-dashed-wrapped {border: 1px dashed gray;margin: 0 0.4em 0.5em 0.4em;box-sizing: border-box;padding-bottom: 0.4em;background-color: white;}#sk-container-id-3 div.sk-label label {font-family: monospace;font-weight: bold;display: inline-block;line-height: 1.2em;}#sk-container-id-3 div.sk-label-container {text-align: center;}#sk-container-id-3 div.sk-container {/* jupyter's `normalize.less` sets `[hidden] { display: none; }` but bootstrap.min.css set `[hidden] { display: none !important; }` so we also need the `!important` here to be able to override the default hidden behavior on the sphinx rendered scikit-learn.org. See: https://github.com/scikit-learn/scikit-learn/issues/21755 */display: inline-block !important;position: relative;}#sk-container-id-3 div.sk-text-repr-fallback {display: none;}</style><div id=\"sk-container-id-3\" class=\"sk-top-container\"><div class=\"sk-text-repr-fallback\"><pre>LogisticRegression(multi_class=&#x27;multinomial&#x27;, solver=&#x27;newton-cg&#x27;)</pre><b>In a Jupyter environment, please rerun this cell to show the HTML representation or trust the notebook. <br />On GitHub, the HTML representation is unable to render, please try loading this page with nbviewer.org.</b></div><div class=\"sk-container\" hidden><div class=\"sk-item\"><div class=\"sk-estimator sk-toggleable\"><input class=\"sk-toggleable__control sk-hidden--visually\" id=\"sk-estimator-id-3\" type=\"checkbox\" checked><label for=\"sk-estimator-id-3\" class=\"sk-toggleable__label sk-toggleable__label-arrow\">LogisticRegression</label><div class=\"sk-toggleable__content\"><pre>LogisticRegression(multi_class=&#x27;multinomial&#x27;, solver=&#x27;newton-cg&#x27;)</pre></div></div></div></div></div>"
            ]
          },
          "metadata": {},
          "execution_count": 41
        }
      ]
    },
    {
      "cell_type": "code",
      "source": [
        "# Use the model to predict\n",
        "\n",
        "Q_pred = model.predict(Z_test)"
      ],
      "metadata": {
        "id": "PXvObNkWvCd7"
      },
      "execution_count": null,
      "outputs": []
    },
    {
      "cell_type": "code",
      "source": [
        "#Prepare for AIC and BIC\n",
        "from sklearn.metrics import mean_squared_error\n",
        "\n",
        "#Y_train_pred = model.predict(X_train)\n",
        "\n",
        "# Calculate the error\n",
        "mse = mean_squared_error(Q_test, Q_pred)\n",
        "display('MSE: {}'.format(mse))\n",
        "\n",
        "# Calculate number of parameters\n",
        "num_params = len(model.coef_) + 1\n",
        "display('# Parameters: {}'.format(num_params))\n",
        "\n",
        "# Number of samples\n",
        "n = len(Q_test)\n",
        "print('# Samples: {}'.format(n))"
      ],
      "metadata": {
        "colab": {
          "base_uri": "https://localhost:8080/",
          "height": 73
        },
        "id": "n_pqsibAvDJe",
        "outputId": "4ce0a79f-ff5b-45b2-d0d2-3ed280f53b19"
      },
      "execution_count": null,
      "outputs": [
        {
          "output_type": "display_data",
          "data": {
            "text/plain": [
              "'MSE: 0.04271844660194175'"
            ],
            "application/vnd.google.colaboratory.intrinsic+json": {
              "type": "string"
            }
          },
          "metadata": {}
        },
        {
          "output_type": "display_data",
          "data": {
            "text/plain": [
              "'# Parameters: 7'"
            ],
            "application/vnd.google.colaboratory.intrinsic+json": {
              "type": "string"
            }
          },
          "metadata": {}
        },
        {
          "output_type": "stream",
          "name": "stdout",
          "text": [
            "# Samples: 3090\n"
          ]
        }
      ]
    },
    {
      "cell_type": "code",
      "source": [
        "from math import log\n",
        "\n",
        "# Calculate AIC\n",
        "\n",
        "def calculate_aic(n, mse, num_params):\n",
        "  aic = n * log(mse) + 2 * num_params\n",
        "  return aic\n",
        "\n",
        "display('AIC: {}'.format(calculate_aic(n,mse,num_params)))\n",
        "\n",
        "# Calculate BIC\n",
        "\n",
        "def calculate_bic(n, mse, num_params):\n",
        " bic = n * log(mse) + num_params * log(n)\n",
        " return bic\n",
        "\n",
        "display('BIC: {}'.format(calculate_bic(n,mse,num_params)))"
      ],
      "metadata": {
        "colab": {
          "base_uri": "https://localhost:8080/",
          "height": 55
        },
        "id": "zEpQk86ZvGDv",
        "outputId": "b454daf8-77dd-4def-8d2a-e20f48ab10a0"
      },
      "execution_count": null,
      "outputs": [
        {
          "output_type": "display_data",
          "data": {
            "text/plain": [
              "'AIC: -9729.154542173748'"
            ],
            "application/vnd.google.colaboratory.intrinsic+json": {
              "type": "string"
            }
          },
          "metadata": {}
        },
        {
          "output_type": "display_data",
          "data": {
            "text/plain": [
              "'BIC: -9686.903057584506'"
            ],
            "application/vnd.google.colaboratory.intrinsic+json": {
              "type": "string"
            }
          },
          "metadata": {}
        }
      ]
    },
    {
      "cell_type": "code",
      "source": [
        "# KFold Cross-validation\n",
        "from sklearn.model_selection import KFold, cross_val_score\n",
        "\n",
        "cv = KFold(n_splits=5, shuffle=True, random_state=1)\n",
        "result = cross_val_score(model, Z_train, Q_train, cv=cv, scoring='accuracy')"
      ],
      "metadata": {
        "id": "K-vF12VwvKae"
      },
      "execution_count": null,
      "outputs": []
    },
    {
      "cell_type": "code",
      "source": [
        "# print the score\n",
        "result"
      ],
      "metadata": {
        "colab": {
          "base_uri": "https://localhost:8080/"
        },
        "id": "ltiBNDCAvLIC",
        "outputId": "bc4ccad0-e67e-4fc3-d558-2feabc9d6454"
      },
      "execution_count": null,
      "outputs": [
        {
          "output_type": "execute_result",
          "data": {
            "text/plain": [
              "array([0.98335645, 0.98543689, 0.97850208, 0.98613037, 0.9833449 ])"
            ]
          },
          "metadata": {},
          "execution_count": 46
        }
      ]
    },
    {
      "cell_type": "markdown",
      "source": [
        "# Method 1 : b) doing a 50-50% test-train split\n",
        "\n",
        "Data from test and train were concatenated and then a 50%-50% split was done."
      ],
      "metadata": {
        "id": "0kwgjim--8II"
      }
    },
    {
      "cell_type": "code",
      "source": [
        "train_ff, test_ff = train_test_split(Q, test_size=0.5, random_state=42)"
      ],
      "metadata": {
        "id": "1lFVowQ6_EL4"
      },
      "execution_count": null,
      "outputs": []
    },
    {
      "cell_type": "code",
      "source": [
        "# A, B for train set \n",
        "A_train = train_ff.drop(['subject','Activity'], axis = 1)\n",
        "B_train= train_ff['Activity']\n",
        "\n",
        "a = len(A_train)\n",
        "b = len(B_train)\n",
        "\n",
        "print(a,b)"
      ],
      "metadata": {
        "colab": {
          "base_uri": "https://localhost:8080/"
        },
        "id": "vTW_6Vwy_XXi",
        "outputId": "06753952-55f1-4519-fc87-0d21b7592f8c"
      },
      "execution_count": null,
      "outputs": [
        {
          "output_type": "stream",
          "name": "stdout",
          "text": [
            "5149 5149\n"
          ]
        }
      ]
    },
    {
      "cell_type": "code",
      "source": [
        "# A, B for test set \n",
        "\n",
        "A_test = test_ff.drop(['subject','Activity'], axis = 1) \n",
        "B_test= test_ff['Activity']\n",
        "\n",
        "w = len(A_test)\n",
        "v = len(B_test)\n",
        "\n",
        "print(w,v)\n"
      ],
      "metadata": {
        "colab": {
          "base_uri": "https://localhost:8080/"
        },
        "id": "hwVpWpem_-ZS",
        "outputId": "1a2ae034-b747-47ad-96ce-eb88b50645f0"
      },
      "execution_count": null,
      "outputs": [
        {
          "output_type": "stream",
          "name": "stdout",
          "text": [
            "5150 5150\n"
          ]
        }
      ]
    },
    {
      "cell_type": "code",
      "source": [
        "# Fitting the model\n",
        "model.fit(A_train, B_train)"
      ],
      "metadata": {
        "colab": {
          "base_uri": "https://localhost:8080/",
          "height": 74
        },
        "id": "busPy0HqARw3",
        "outputId": "ca0f912d-5a28-46f5-f394-66c526dcec58"
      },
      "execution_count": null,
      "outputs": [
        {
          "output_type": "execute_result",
          "data": {
            "text/plain": [
              "LogisticRegression(multi_class='multinomial', solver='newton-cg')"
            ],
            "text/html": [
              "<style>#sk-container-id-4 {color: black;background-color: white;}#sk-container-id-4 pre{padding: 0;}#sk-container-id-4 div.sk-toggleable {background-color: white;}#sk-container-id-4 label.sk-toggleable__label {cursor: pointer;display: block;width: 100%;margin-bottom: 0;padding: 0.3em;box-sizing: border-box;text-align: center;}#sk-container-id-4 label.sk-toggleable__label-arrow:before {content: \"▸\";float: left;margin-right: 0.25em;color: #696969;}#sk-container-id-4 label.sk-toggleable__label-arrow:hover:before {color: black;}#sk-container-id-4 div.sk-estimator:hover label.sk-toggleable__label-arrow:before {color: black;}#sk-container-id-4 div.sk-toggleable__content {max-height: 0;max-width: 0;overflow: hidden;text-align: left;background-color: #f0f8ff;}#sk-container-id-4 div.sk-toggleable__content pre {margin: 0.2em;color: black;border-radius: 0.25em;background-color: #f0f8ff;}#sk-container-id-4 input.sk-toggleable__control:checked~div.sk-toggleable__content {max-height: 200px;max-width: 100%;overflow: auto;}#sk-container-id-4 input.sk-toggleable__control:checked~label.sk-toggleable__label-arrow:before {content: \"▾\";}#sk-container-id-4 div.sk-estimator input.sk-toggleable__control:checked~label.sk-toggleable__label {background-color: #d4ebff;}#sk-container-id-4 div.sk-label input.sk-toggleable__control:checked~label.sk-toggleable__label {background-color: #d4ebff;}#sk-container-id-4 input.sk-hidden--visually {border: 0;clip: rect(1px 1px 1px 1px);clip: rect(1px, 1px, 1px, 1px);height: 1px;margin: -1px;overflow: hidden;padding: 0;position: absolute;width: 1px;}#sk-container-id-4 div.sk-estimator {font-family: monospace;background-color: #f0f8ff;border: 1px dotted black;border-radius: 0.25em;box-sizing: border-box;margin-bottom: 0.5em;}#sk-container-id-4 div.sk-estimator:hover {background-color: #d4ebff;}#sk-container-id-4 div.sk-parallel-item::after {content: \"\";width: 100%;border-bottom: 1px solid gray;flex-grow: 1;}#sk-container-id-4 div.sk-label:hover label.sk-toggleable__label {background-color: #d4ebff;}#sk-container-id-4 div.sk-serial::before {content: \"\";position: absolute;border-left: 1px solid gray;box-sizing: border-box;top: 0;bottom: 0;left: 50%;z-index: 0;}#sk-container-id-4 div.sk-serial {display: flex;flex-direction: column;align-items: center;background-color: white;padding-right: 0.2em;padding-left: 0.2em;position: relative;}#sk-container-id-4 div.sk-item {position: relative;z-index: 1;}#sk-container-id-4 div.sk-parallel {display: flex;align-items: stretch;justify-content: center;background-color: white;position: relative;}#sk-container-id-4 div.sk-item::before, #sk-container-id-4 div.sk-parallel-item::before {content: \"\";position: absolute;border-left: 1px solid gray;box-sizing: border-box;top: 0;bottom: 0;left: 50%;z-index: -1;}#sk-container-id-4 div.sk-parallel-item {display: flex;flex-direction: column;z-index: 1;position: relative;background-color: white;}#sk-container-id-4 div.sk-parallel-item:first-child::after {align-self: flex-end;width: 50%;}#sk-container-id-4 div.sk-parallel-item:last-child::after {align-self: flex-start;width: 50%;}#sk-container-id-4 div.sk-parallel-item:only-child::after {width: 0;}#sk-container-id-4 div.sk-dashed-wrapped {border: 1px dashed gray;margin: 0 0.4em 0.5em 0.4em;box-sizing: border-box;padding-bottom: 0.4em;background-color: white;}#sk-container-id-4 div.sk-label label {font-family: monospace;font-weight: bold;display: inline-block;line-height: 1.2em;}#sk-container-id-4 div.sk-label-container {text-align: center;}#sk-container-id-4 div.sk-container {/* jupyter's `normalize.less` sets `[hidden] { display: none; }` but bootstrap.min.css set `[hidden] { display: none !important; }` so we also need the `!important` here to be able to override the default hidden behavior on the sphinx rendered scikit-learn.org. See: https://github.com/scikit-learn/scikit-learn/issues/21755 */display: inline-block !important;position: relative;}#sk-container-id-4 div.sk-text-repr-fallback {display: none;}</style><div id=\"sk-container-id-4\" class=\"sk-top-container\"><div class=\"sk-text-repr-fallback\"><pre>LogisticRegression(multi_class=&#x27;multinomial&#x27;, solver=&#x27;newton-cg&#x27;)</pre><b>In a Jupyter environment, please rerun this cell to show the HTML representation or trust the notebook. <br />On GitHub, the HTML representation is unable to render, please try loading this page with nbviewer.org.</b></div><div class=\"sk-container\" hidden><div class=\"sk-item\"><div class=\"sk-estimator sk-toggleable\"><input class=\"sk-toggleable__control sk-hidden--visually\" id=\"sk-estimator-id-4\" type=\"checkbox\" checked><label for=\"sk-estimator-id-4\" class=\"sk-toggleable__label sk-toggleable__label-arrow\">LogisticRegression</label><div class=\"sk-toggleable__content\"><pre>LogisticRegression(multi_class=&#x27;multinomial&#x27;, solver=&#x27;newton-cg&#x27;)</pre></div></div></div></div></div>"
            ]
          },
          "metadata": {},
          "execution_count": 50
        }
      ]
    },
    {
      "cell_type": "code",
      "source": [
        "# Use the model to predict\n",
        "\n",
        "B_pred = model.predict(A_test)"
      ],
      "metadata": {
        "id": "ugKIpBUHAU0R"
      },
      "execution_count": null,
      "outputs": []
    },
    {
      "cell_type": "code",
      "source": [
        "#Prepare for AIC and BIC\n",
        "from sklearn.metrics import mean_squared_error\n",
        "\n",
        "#Y_train_pred = model.predict(X_train)\n",
        "\n",
        "# Calculate the error\n",
        "mse = mean_squared_error(B_test, B_pred)\n",
        "display('MSE: {}'.format(mse))\n",
        "\n",
        "# Calculate number of parameters\n",
        "num_params = len(model.coef_) + 1\n",
        "display('# Parameters: {}'.format(num_params))\n",
        "\n",
        "# Number of samples\n",
        "n = len(B_test)\n",
        "print('# Samples: {}'.format(n))"
      ],
      "metadata": {
        "colab": {
          "base_uri": "https://localhost:8080/",
          "height": 73
        },
        "id": "TDNgZKkoAZwF",
        "outputId": "0cc11f70-63f7-4236-90df-49460720bc40"
      },
      "execution_count": null,
      "outputs": [
        {
          "output_type": "display_data",
          "data": {
            "text/plain": [
              "'MSE: 0.0374757281553398'"
            ],
            "application/vnd.google.colaboratory.intrinsic+json": {
              "type": "string"
            }
          },
          "metadata": {}
        },
        {
          "output_type": "display_data",
          "data": {
            "text/plain": [
              "'# Parameters: 7'"
            ],
            "application/vnd.google.colaboratory.intrinsic+json": {
              "type": "string"
            }
          },
          "metadata": {}
        },
        {
          "output_type": "stream",
          "name": "stdout",
          "text": [
            "# Samples: 5150\n"
          ]
        }
      ]
    },
    {
      "cell_type": "code",
      "source": [
        "from math import log\n",
        "\n",
        "# Calculate AIC\n",
        "\n",
        "def calculate_aic(n, mse, num_params):\n",
        "  aic = n * log(mse) + 2 * num_params\n",
        "  return aic\n",
        "\n",
        "display('AIC: {}'.format(calculate_aic(n,mse,num_params)))\n",
        "\n",
        "# Calculate BIC\n",
        "\n",
        "def calculate_bic(n, mse, num_params):\n",
        " bic = n * log(mse) + num_params * log(n)\n",
        " return bic\n",
        "\n",
        "display('BIC: {}'.format(calculate_bic(n,mse,num_params)))"
      ],
      "metadata": {
        "colab": {
          "base_uri": "https://localhost:8080/",
          "height": 55
        },
        "id": "mkIzq7j8Ahy0",
        "outputId": "e6b2d041-d8d7-41d6-e987-35707e284598"
      },
      "execution_count": null,
      "outputs": [
        {
          "output_type": "display_data",
          "data": {
            "text/plain": [
              "'AIC: -16898.918294477415'"
            ],
            "application/vnd.google.colaboratory.intrinsic+json": {
              "type": "string"
            }
          },
          "metadata": {}
        },
        {
          "output_type": "display_data",
          "data": {
            "text/plain": [
              "'BIC: -16853.09103052181'"
            ],
            "application/vnd.google.colaboratory.intrinsic+json": {
              "type": "string"
            }
          },
          "metadata": {}
        }
      ]
    },
    {
      "cell_type": "code",
      "source": [
        "# KFold Cross-validation\n",
        "from sklearn.model_selection import KFold, cross_val_score\n",
        "\n",
        "cv = KFold(n_splits=5, shuffle=True, random_state=1)\n",
        "result = cross_val_score(model, A_train, B_train, cv=cv, scoring='accuracy')"
      ],
      "metadata": {
        "id": "kMFrNPVwAicH"
      },
      "execution_count": null,
      "outputs": []
    },
    {
      "cell_type": "code",
      "source": [
        "# print the score\n",
        "result"
      ],
      "metadata": {
        "colab": {
          "base_uri": "https://localhost:8080/"
        },
        "id": "7kh1RW-LAoCf",
        "outputId": "a5c23e33-ff58-4712-8253-d9b92cbdc525"
      },
      "execution_count": null,
      "outputs": [
        {
          "output_type": "execute_result",
          "data": {
            "text/plain": [
              "array([0.97961165, 0.98252427, 0.9776699 , 0.98349515, 0.97959184])"
            ]
          },
          "metadata": {},
          "execution_count": 55
        }
      ]
    },
    {
      "cell_type": "markdown",
      "source": [
        "# Chi-square Feature Selection"
      ],
      "metadata": {
        "id": "sUt_84-iIsva"
      }
    },
    {
      "cell_type": "code",
      "source": [
        "Q.corr()"
      ],
      "metadata": {
        "colab": {
          "base_uri": "https://localhost:8080/",
          "height": 505
        },
        "id": "uL-855QPI0m8",
        "outputId": "f16997c3-101a-4d9b-a87c-94235ba919e0"
      },
      "execution_count": null,
      "outputs": [
        {
          "output_type": "execute_result",
          "data": {
            "text/plain": [
              "                      tBodyAcc-mean()-X  tBodyAcc-mean()-Y  tBodyAcc-mean()-Z  \\\n",
              "tBodyAcc-mean()-X              1.000000           0.128037          -0.230302   \n",
              "tBodyAcc-mean()-Y              0.128037           1.000000          -0.029882   \n",
              "tBodyAcc-mean()-Z             -0.230302          -0.029882           1.000000   \n",
              "tBodyAcc-std()-X               0.004590          -0.046352          -0.024185   \n",
              "tBodyAcc-std()-Y              -0.016785          -0.046996          -0.023745   \n",
              "...                                 ...                ...                ...   \n",
              "angle(X,gravityMean)          -0.041021          -0.007513           0.003215   \n",
              "angle(Y,gravityMean)           0.034053          -0.005616          -0.012986   \n",
              "angle(Z,gravityMean)           0.030656          -0.016233          -0.028406   \n",
              "subject                        0.020345          -0.001577           0.001981   \n",
              "Activity                      -0.025203          -0.076145          -0.064793   \n",
              "\n",
              "                      tBodyAcc-std()-X  tBodyAcc-std()-Y  tBodyAcc-std()-Z  \\\n",
              "tBodyAcc-mean()-X             0.004590         -0.016785         -0.036071   \n",
              "tBodyAcc-mean()-Y            -0.046352         -0.046996         -0.054153   \n",
              "tBodyAcc-mean()-Z            -0.024185         -0.023745         -0.015632   \n",
              "tBodyAcc-std()-X              1.000000          0.922525          0.861910   \n",
              "tBodyAcc-std()-Y              0.922525          1.000000          0.888259   \n",
              "...                                ...               ...               ...   \n",
              "angle(X,gravityMean)         -0.374104         -0.381391         -0.353271   \n",
              "angle(Y,gravityMean)          0.449425          0.506106          0.459092   \n",
              "angle(Z,gravityMean)          0.393063          0.425511          0.483424   \n",
              "subject                      -0.061397         -0.094486         -0.036750   \n",
              "Activity                      0.827087          0.814948          0.800649   \n",
              "\n",
              "                      tBodyAcc-mad()-X  tBodyAcc-mad()-Y  tBodyAcc-mad()-Z  \\\n",
              "tBodyAcc-mean()-X             0.010303         -0.017488         -0.038805   \n",
              "tBodyAcc-mean()-Y            -0.045247         -0.047673         -0.055524   \n",
              "tBodyAcc-mean()-Z            -0.022872         -0.022966         -0.009577   \n",
              "tBodyAcc-std()-X              0.998662          0.916087          0.856497   \n",
              "tBodyAcc-std()-Y              0.918561          0.997510          0.887052   \n",
              "...                                ...               ...               ...   \n",
              "angle(X,gravityMean)         -0.371168         -0.378013         -0.355836   \n",
              "angle(Y,gravityMean)          0.444926          0.507947          0.460345   \n",
              "angle(Z,gravityMean)          0.389481          0.424479          0.480032   \n",
              "subject                      -0.059112         -0.094315         -0.042434   \n",
              "Activity                      0.818749          0.815880          0.801222   \n",
              "\n",
              "                      tBodyAcc-max()-X  ...  fBodyBodyGyroJerkMag-kurtosis()  \\\n",
              "tBodyAcc-mean()-X             0.046943  ...                        -0.002255   \n",
              "tBodyAcc-mean()-Y            -0.039445  ...                        -0.002842   \n",
              "tBodyAcc-mean()-Z            -0.040218  ...                         0.023122   \n",
              "tBodyAcc-std()-X              0.981226  ...                         0.135171   \n",
              "tBodyAcc-std()-Y              0.911137  ...                         0.191164   \n",
              "...                                ...  ...                              ...   \n",
              "angle(X,gravityMean)         -0.384244  ...                        -0.081971   \n",
              "angle(Y,gravityMean)          0.458832  ...                         0.078010   \n",
              "angle(Z,gravityMean)          0.402873  ...                         0.054008   \n",
              "subject                      -0.058773  ...                        -0.044378   \n",
              "Activity                      0.825324  ...                         0.062792   \n",
              "\n",
              "                      angle(tBodyAccMean,gravity)  \\\n",
              "tBodyAcc-mean()-X                       -0.552989   \n",
              "tBodyAcc-mean()-Y                        0.077750   \n",
              "tBodyAcc-mean()-Z                        0.055020   \n",
              "tBodyAcc-std()-X                        -0.034334   \n",
              "tBodyAcc-std()-Y                        -0.020806   \n",
              "...                                           ...   \n",
              "angle(X,gravityMean)                     0.008050   \n",
              "angle(Y,gravityMean)                     0.003082   \n",
              "angle(Z,gravityMean)                    -0.003242   \n",
              "subject                                 -0.004619   \n",
              "Activity                                 0.000396   \n",
              "\n",
              "                      angle(tBodyAccJerkMean),gravityMean)  \\\n",
              "tBodyAcc-mean()-X                                 0.015754   \n",
              "tBodyAcc-mean()-Y                                -0.027567   \n",
              "tBodyAcc-mean()-Z                                -0.042083   \n",
              "tBodyAcc-std()-X                                 -0.017096   \n",
              "tBodyAcc-std()-Y                                 -0.006605   \n",
              "...                                                    ...   \n",
              "angle(X,gravityMean)                              0.017534   \n",
              "angle(Y,gravityMean)                             -0.007256   \n",
              "angle(Z,gravityMean)                             -0.013130   \n",
              "subject                                           0.008910   \n",
              "Activity                                         -0.011205   \n",
              "\n",
              "                      angle(tBodyGyroMean,gravityMean)  \\\n",
              "tBodyAcc-mean()-X                             0.036047   \n",
              "tBodyAcc-mean()-Y                             0.013241   \n",
              "tBodyAcc-mean()-Z                            -0.066233   \n",
              "tBodyAcc-std()-X                              0.027464   \n",
              "tBodyAcc-std()-Y                              0.001902   \n",
              "...                                                ...   \n",
              "angle(X,gravityMean)                         -0.007095   \n",
              "angle(Y,gravityMean)                         -0.006444   \n",
              "angle(Z,gravityMean)                         -0.015380   \n",
              "subject                                      -0.018009   \n",
              "Activity                                     -0.010668   \n",
              "\n",
              "                      angle(tBodyGyroJerkMean,gravityMean)  \\\n",
              "tBodyAcc-mean()-X                                 0.034296   \n",
              "tBodyAcc-mean()-Y                                 0.077627   \n",
              "tBodyAcc-mean()-Z                                -0.030748   \n",
              "tBodyAcc-std()-X                                 -0.027123   \n",
              "tBodyAcc-std()-Y                                 -0.015784   \n",
              "...                                                    ...   \n",
              "angle(X,gravityMean)                              0.024822   \n",
              "angle(Y,gravityMean)                             -0.004582   \n",
              "angle(Z,gravityMean)                             -0.012549   \n",
              "subject                                           0.008301   \n",
              "Activity                                         -0.005604   \n",
              "\n",
              "                      angle(X,gravityMean)  angle(Y,gravityMean)  \\\n",
              "tBodyAcc-mean()-X                -0.041021              0.034053   \n",
              "tBodyAcc-mean()-Y                -0.007513             -0.005616   \n",
              "tBodyAcc-mean()-Z                 0.003215             -0.012986   \n",
              "tBodyAcc-std()-X                 -0.374104              0.449425   \n",
              "tBodyAcc-std()-Y                 -0.381391              0.506106   \n",
              "...                                    ...                   ...   \n",
              "angle(X,gravityMean)              1.000000             -0.748249   \n",
              "angle(Y,gravityMean)             -0.748249              1.000000   \n",
              "angle(Z,gravityMean)             -0.635231              0.545614   \n",
              "subject                           0.025003             -0.024190   \n",
              "Activity                         -0.054100              0.224455   \n",
              "\n",
              "                      angle(Z,gravityMean)   subject  Activity  \n",
              "tBodyAcc-mean()-X                 0.030656  0.020345 -0.025203  \n",
              "tBodyAcc-mean()-Y                -0.016233 -0.001577 -0.076145  \n",
              "tBodyAcc-mean()-Z                -0.028406  0.001981 -0.064793  \n",
              "tBodyAcc-std()-X                  0.393063 -0.061397  0.827087  \n",
              "tBodyAcc-std()-Y                  0.425511 -0.094486  0.814948  \n",
              "...                                    ...       ...       ...  \n",
              "angle(X,gravityMean)             -0.635231  0.025003 -0.054100  \n",
              "angle(Y,gravityMean)              0.545614 -0.024190  0.224455  \n",
              "angle(Z,gravityMean)              1.000000 -0.067160  0.226778  \n",
              "subject                          -0.067160  1.000000 -0.044589  \n",
              "Activity                          0.226778 -0.044589  1.000000  \n",
              "\n",
              "[563 rows x 563 columns]"
            ],
            "text/html": [
              "\n",
              "  <div id=\"df-b32cfca1-ea29-4617-b9ee-d779cf645062\">\n",
              "    <div class=\"colab-df-container\">\n",
              "      <div>\n",
              "<style scoped>\n",
              "    .dataframe tbody tr th:only-of-type {\n",
              "        vertical-align: middle;\n",
              "    }\n",
              "\n",
              "    .dataframe tbody tr th {\n",
              "        vertical-align: top;\n",
              "    }\n",
              "\n",
              "    .dataframe thead th {\n",
              "        text-align: right;\n",
              "    }\n",
              "</style>\n",
              "<table border=\"1\" class=\"dataframe\">\n",
              "  <thead>\n",
              "    <tr style=\"text-align: right;\">\n",
              "      <th></th>\n",
              "      <th>tBodyAcc-mean()-X</th>\n",
              "      <th>tBodyAcc-mean()-Y</th>\n",
              "      <th>tBodyAcc-mean()-Z</th>\n",
              "      <th>tBodyAcc-std()-X</th>\n",
              "      <th>tBodyAcc-std()-Y</th>\n",
              "      <th>tBodyAcc-std()-Z</th>\n",
              "      <th>tBodyAcc-mad()-X</th>\n",
              "      <th>tBodyAcc-mad()-Y</th>\n",
              "      <th>tBodyAcc-mad()-Z</th>\n",
              "      <th>tBodyAcc-max()-X</th>\n",
              "      <th>...</th>\n",
              "      <th>fBodyBodyGyroJerkMag-kurtosis()</th>\n",
              "      <th>angle(tBodyAccMean,gravity)</th>\n",
              "      <th>angle(tBodyAccJerkMean),gravityMean)</th>\n",
              "      <th>angle(tBodyGyroMean,gravityMean)</th>\n",
              "      <th>angle(tBodyGyroJerkMean,gravityMean)</th>\n",
              "      <th>angle(X,gravityMean)</th>\n",
              "      <th>angle(Y,gravityMean)</th>\n",
              "      <th>angle(Z,gravityMean)</th>\n",
              "      <th>subject</th>\n",
              "      <th>Activity</th>\n",
              "    </tr>\n",
              "  </thead>\n",
              "  <tbody>\n",
              "    <tr>\n",
              "      <th>tBodyAcc-mean()-X</th>\n",
              "      <td>1.000000</td>\n",
              "      <td>0.128037</td>\n",
              "      <td>-0.230302</td>\n",
              "      <td>0.004590</td>\n",
              "      <td>-0.016785</td>\n",
              "      <td>-0.036071</td>\n",
              "      <td>0.010303</td>\n",
              "      <td>-0.017488</td>\n",
              "      <td>-0.038805</td>\n",
              "      <td>0.046943</td>\n",
              "      <td>...</td>\n",
              "      <td>-0.002255</td>\n",
              "      <td>-0.552989</td>\n",
              "      <td>0.015754</td>\n",
              "      <td>0.036047</td>\n",
              "      <td>0.034296</td>\n",
              "      <td>-0.041021</td>\n",
              "      <td>0.034053</td>\n",
              "      <td>0.030656</td>\n",
              "      <td>0.020345</td>\n",
              "      <td>-0.025203</td>\n",
              "    </tr>\n",
              "    <tr>\n",
              "      <th>tBodyAcc-mean()-Y</th>\n",
              "      <td>0.128037</td>\n",
              "      <td>1.000000</td>\n",
              "      <td>-0.029882</td>\n",
              "      <td>-0.046352</td>\n",
              "      <td>-0.046996</td>\n",
              "      <td>-0.054153</td>\n",
              "      <td>-0.045247</td>\n",
              "      <td>-0.047673</td>\n",
              "      <td>-0.055524</td>\n",
              "      <td>-0.039445</td>\n",
              "      <td>...</td>\n",
              "      <td>-0.002842</td>\n",
              "      <td>0.077750</td>\n",
              "      <td>-0.027567</td>\n",
              "      <td>0.013241</td>\n",
              "      <td>0.077627</td>\n",
              "      <td>-0.007513</td>\n",
              "      <td>-0.005616</td>\n",
              "      <td>-0.016233</td>\n",
              "      <td>-0.001577</td>\n",
              "      <td>-0.076145</td>\n",
              "    </tr>\n",
              "    <tr>\n",
              "      <th>tBodyAcc-mean()-Z</th>\n",
              "      <td>-0.230302</td>\n",
              "      <td>-0.029882</td>\n",
              "      <td>1.000000</td>\n",
              "      <td>-0.024185</td>\n",
              "      <td>-0.023745</td>\n",
              "      <td>-0.015632</td>\n",
              "      <td>-0.022872</td>\n",
              "      <td>-0.022966</td>\n",
              "      <td>-0.009577</td>\n",
              "      <td>-0.040218</td>\n",
              "      <td>...</td>\n",
              "      <td>0.023122</td>\n",
              "      <td>0.055020</td>\n",
              "      <td>-0.042083</td>\n",
              "      <td>-0.066233</td>\n",
              "      <td>-0.030748</td>\n",
              "      <td>0.003215</td>\n",
              "      <td>-0.012986</td>\n",
              "      <td>-0.028406</td>\n",
              "      <td>0.001981</td>\n",
              "      <td>-0.064793</td>\n",
              "    </tr>\n",
              "    <tr>\n",
              "      <th>tBodyAcc-std()-X</th>\n",
              "      <td>0.004590</td>\n",
              "      <td>-0.046352</td>\n",
              "      <td>-0.024185</td>\n",
              "      <td>1.000000</td>\n",
              "      <td>0.922525</td>\n",
              "      <td>0.861910</td>\n",
              "      <td>0.998662</td>\n",
              "      <td>0.916087</td>\n",
              "      <td>0.856497</td>\n",
              "      <td>0.981226</td>\n",
              "      <td>...</td>\n",
              "      <td>0.135171</td>\n",
              "      <td>-0.034334</td>\n",
              "      <td>-0.017096</td>\n",
              "      <td>0.027464</td>\n",
              "      <td>-0.027123</td>\n",
              "      <td>-0.374104</td>\n",
              "      <td>0.449425</td>\n",
              "      <td>0.393063</td>\n",
              "      <td>-0.061397</td>\n",
              "      <td>0.827087</td>\n",
              "    </tr>\n",
              "    <tr>\n",
              "      <th>tBodyAcc-std()-Y</th>\n",
              "      <td>-0.016785</td>\n",
              "      <td>-0.046996</td>\n",
              "      <td>-0.023745</td>\n",
              "      <td>0.922525</td>\n",
              "      <td>1.000000</td>\n",
              "      <td>0.888259</td>\n",
              "      <td>0.918561</td>\n",
              "      <td>0.997510</td>\n",
              "      <td>0.887052</td>\n",
              "      <td>0.911137</td>\n",
              "      <td>...</td>\n",
              "      <td>0.191164</td>\n",
              "      <td>-0.020806</td>\n",
              "      <td>-0.006605</td>\n",
              "      <td>0.001902</td>\n",
              "      <td>-0.015784</td>\n",
              "      <td>-0.381391</td>\n",
              "      <td>0.506106</td>\n",
              "      <td>0.425511</td>\n",
              "      <td>-0.094486</td>\n",
              "      <td>0.814948</td>\n",
              "    </tr>\n",
              "    <tr>\n",
              "      <th>...</th>\n",
              "      <td>...</td>\n",
              "      <td>...</td>\n",
              "      <td>...</td>\n",
              "      <td>...</td>\n",
              "      <td>...</td>\n",
              "      <td>...</td>\n",
              "      <td>...</td>\n",
              "      <td>...</td>\n",
              "      <td>...</td>\n",
              "      <td>...</td>\n",
              "      <td>...</td>\n",
              "      <td>...</td>\n",
              "      <td>...</td>\n",
              "      <td>...</td>\n",
              "      <td>...</td>\n",
              "      <td>...</td>\n",
              "      <td>...</td>\n",
              "      <td>...</td>\n",
              "      <td>...</td>\n",
              "      <td>...</td>\n",
              "      <td>...</td>\n",
              "    </tr>\n",
              "    <tr>\n",
              "      <th>angle(X,gravityMean)</th>\n",
              "      <td>-0.041021</td>\n",
              "      <td>-0.007513</td>\n",
              "      <td>0.003215</td>\n",
              "      <td>-0.374104</td>\n",
              "      <td>-0.381391</td>\n",
              "      <td>-0.353271</td>\n",
              "      <td>-0.371168</td>\n",
              "      <td>-0.378013</td>\n",
              "      <td>-0.355836</td>\n",
              "      <td>-0.384244</td>\n",
              "      <td>...</td>\n",
              "      <td>-0.081971</td>\n",
              "      <td>0.008050</td>\n",
              "      <td>0.017534</td>\n",
              "      <td>-0.007095</td>\n",
              "      <td>0.024822</td>\n",
              "      <td>1.000000</td>\n",
              "      <td>-0.748249</td>\n",
              "      <td>-0.635231</td>\n",
              "      <td>0.025003</td>\n",
              "      <td>-0.054100</td>\n",
              "    </tr>\n",
              "    <tr>\n",
              "      <th>angle(Y,gravityMean)</th>\n",
              "      <td>0.034053</td>\n",
              "      <td>-0.005616</td>\n",
              "      <td>-0.012986</td>\n",
              "      <td>0.449425</td>\n",
              "      <td>0.506106</td>\n",
              "      <td>0.459092</td>\n",
              "      <td>0.444926</td>\n",
              "      <td>0.507947</td>\n",
              "      <td>0.460345</td>\n",
              "      <td>0.458832</td>\n",
              "      <td>...</td>\n",
              "      <td>0.078010</td>\n",
              "      <td>0.003082</td>\n",
              "      <td>-0.007256</td>\n",
              "      <td>-0.006444</td>\n",
              "      <td>-0.004582</td>\n",
              "      <td>-0.748249</td>\n",
              "      <td>1.000000</td>\n",
              "      <td>0.545614</td>\n",
              "      <td>-0.024190</td>\n",
              "      <td>0.224455</td>\n",
              "    </tr>\n",
              "    <tr>\n",
              "      <th>angle(Z,gravityMean)</th>\n",
              "      <td>0.030656</td>\n",
              "      <td>-0.016233</td>\n",
              "      <td>-0.028406</td>\n",
              "      <td>0.393063</td>\n",
              "      <td>0.425511</td>\n",
              "      <td>0.483424</td>\n",
              "      <td>0.389481</td>\n",
              "      <td>0.424479</td>\n",
              "      <td>0.480032</td>\n",
              "      <td>0.402873</td>\n",
              "      <td>...</td>\n",
              "      <td>0.054008</td>\n",
              "      <td>-0.003242</td>\n",
              "      <td>-0.013130</td>\n",
              "      <td>-0.015380</td>\n",
              "      <td>-0.012549</td>\n",
              "      <td>-0.635231</td>\n",
              "      <td>0.545614</td>\n",
              "      <td>1.000000</td>\n",
              "      <td>-0.067160</td>\n",
              "      <td>0.226778</td>\n",
              "    </tr>\n",
              "    <tr>\n",
              "      <th>subject</th>\n",
              "      <td>0.020345</td>\n",
              "      <td>-0.001577</td>\n",
              "      <td>0.001981</td>\n",
              "      <td>-0.061397</td>\n",
              "      <td>-0.094486</td>\n",
              "      <td>-0.036750</td>\n",
              "      <td>-0.059112</td>\n",
              "      <td>-0.094315</td>\n",
              "      <td>-0.042434</td>\n",
              "      <td>-0.058773</td>\n",
              "      <td>...</td>\n",
              "      <td>-0.044378</td>\n",
              "      <td>-0.004619</td>\n",
              "      <td>0.008910</td>\n",
              "      <td>-0.018009</td>\n",
              "      <td>0.008301</td>\n",
              "      <td>0.025003</td>\n",
              "      <td>-0.024190</td>\n",
              "      <td>-0.067160</td>\n",
              "      <td>1.000000</td>\n",
              "      <td>-0.044589</td>\n",
              "    </tr>\n",
              "    <tr>\n",
              "      <th>Activity</th>\n",
              "      <td>-0.025203</td>\n",
              "      <td>-0.076145</td>\n",
              "      <td>-0.064793</td>\n",
              "      <td>0.827087</td>\n",
              "      <td>0.814948</td>\n",
              "      <td>0.800649</td>\n",
              "      <td>0.818749</td>\n",
              "      <td>0.815880</td>\n",
              "      <td>0.801222</td>\n",
              "      <td>0.825324</td>\n",
              "      <td>...</td>\n",
              "      <td>0.062792</td>\n",
              "      <td>0.000396</td>\n",
              "      <td>-0.011205</td>\n",
              "      <td>-0.010668</td>\n",
              "      <td>-0.005604</td>\n",
              "      <td>-0.054100</td>\n",
              "      <td>0.224455</td>\n",
              "      <td>0.226778</td>\n",
              "      <td>-0.044589</td>\n",
              "      <td>1.000000</td>\n",
              "    </tr>\n",
              "  </tbody>\n",
              "</table>\n",
              "<p>563 rows × 563 columns</p>\n",
              "</div>\n",
              "      <button class=\"colab-df-convert\" onclick=\"convertToInteractive('df-b32cfca1-ea29-4617-b9ee-d779cf645062')\"\n",
              "              title=\"Convert this dataframe to an interactive table.\"\n",
              "              style=\"display:none;\">\n",
              "        \n",
              "  <svg xmlns=\"http://www.w3.org/2000/svg\" height=\"24px\"viewBox=\"0 0 24 24\"\n",
              "       width=\"24px\">\n",
              "    <path d=\"M0 0h24v24H0V0z\" fill=\"none\"/>\n",
              "    <path d=\"M18.56 5.44l.94 2.06.94-2.06 2.06-.94-2.06-.94-.94-2.06-.94 2.06-2.06.94zm-11 1L8.5 8.5l.94-2.06 2.06-.94-2.06-.94L8.5 2.5l-.94 2.06-2.06.94zm10 10l.94 2.06.94-2.06 2.06-.94-2.06-.94-.94-2.06-.94 2.06-2.06.94z\"/><path d=\"M17.41 7.96l-1.37-1.37c-.4-.4-.92-.59-1.43-.59-.52 0-1.04.2-1.43.59L10.3 9.45l-7.72 7.72c-.78.78-.78 2.05 0 2.83L4 21.41c.39.39.9.59 1.41.59.51 0 1.02-.2 1.41-.59l7.78-7.78 2.81-2.81c.8-.78.8-2.07 0-2.86zM5.41 20L4 18.59l7.72-7.72 1.47 1.35L5.41 20z\"/>\n",
              "  </svg>\n",
              "      </button>\n",
              "      \n",
              "  <style>\n",
              "    .colab-df-container {\n",
              "      display:flex;\n",
              "      flex-wrap:wrap;\n",
              "      gap: 12px;\n",
              "    }\n",
              "\n",
              "    .colab-df-convert {\n",
              "      background-color: #E8F0FE;\n",
              "      border: none;\n",
              "      border-radius: 50%;\n",
              "      cursor: pointer;\n",
              "      display: none;\n",
              "      fill: #1967D2;\n",
              "      height: 32px;\n",
              "      padding: 0 0 0 0;\n",
              "      width: 32px;\n",
              "    }\n",
              "\n",
              "    .colab-df-convert:hover {\n",
              "      background-color: #E2EBFA;\n",
              "      box-shadow: 0px 1px 2px rgba(60, 64, 67, 0.3), 0px 1px 3px 1px rgba(60, 64, 67, 0.15);\n",
              "      fill: #174EA6;\n",
              "    }\n",
              "\n",
              "    [theme=dark] .colab-df-convert {\n",
              "      background-color: #3B4455;\n",
              "      fill: #D2E3FC;\n",
              "    }\n",
              "\n",
              "    [theme=dark] .colab-df-convert:hover {\n",
              "      background-color: #434B5C;\n",
              "      box-shadow: 0px 1px 3px 1px rgba(0, 0, 0, 0.15);\n",
              "      filter: drop-shadow(0px 1px 2px rgba(0, 0, 0, 0.3));\n",
              "      fill: #FFFFFF;\n",
              "    }\n",
              "  </style>\n",
              "\n",
              "      <script>\n",
              "        const buttonEl =\n",
              "          document.querySelector('#df-b32cfca1-ea29-4617-b9ee-d779cf645062 button.colab-df-convert');\n",
              "        buttonEl.style.display =\n",
              "          google.colab.kernel.accessAllowed ? 'block' : 'none';\n",
              "\n",
              "        async function convertToInteractive(key) {\n",
              "          const element = document.querySelector('#df-b32cfca1-ea29-4617-b9ee-d779cf645062');\n",
              "          const dataTable =\n",
              "            await google.colab.kernel.invokeFunction('convertToInteractive',\n",
              "                                                     [key], {});\n",
              "          if (!dataTable) return;\n",
              "\n",
              "          const docLinkHtml = 'Like what you see? Visit the ' +\n",
              "            '<a target=\"_blank\" href=https://colab.research.google.com/notebooks/data_table.ipynb>data table notebook</a>'\n",
              "            + ' to learn more about interactive tables.';\n",
              "          element.innerHTML = '';\n",
              "          dataTable['output_type'] = 'display_data';\n",
              "          await google.colab.output.renderOutput(dataTable, element);\n",
              "          const docLink = document.createElement('div');\n",
              "          docLink.innerHTML = docLinkHtml;\n",
              "          element.appendChild(docLink);\n",
              "        }\n",
              "      </script>\n",
              "    </div>\n",
              "  </div>\n",
              "  "
            ]
          },
          "metadata": {},
          "execution_count": 56
        }
      ]
    },
    {
      "cell_type": "code",
      "source": [
        "#define x and y\n",
        "X = Q.iloc[:, :(Q.shape[1]-1)]\n",
        "Y = Q.iloc[:, -1]"
      ],
      "metadata": {
        "id": "wtPZkQn5KBMx"
      },
      "execution_count": null,
      "outputs": []
    },
    {
      "cell_type": "code",
      "source": [
        "from sklearn.feature_selection import chi2\n",
        "\n",
        "from sklearn.preprocessing import MinMaxScaler\n",
        "\n",
        "scaler = MinMaxScaler(feature_range=(0, 1))\n",
        "X_scaled = scaler.fit_transform(X)\n",
        "\n",
        "chi_square, p_values = chi2(X_scaled, Y)"
      ],
      "metadata": {
        "id": "WtbGOpQCKLWO"
      },
      "execution_count": null,
      "outputs": []
    },
    {
      "cell_type": "code",
      "source": [
        "p_values_df = pd.DataFrame(p_values, columns=[\"p_val\"], index = X.columns)\n",
        "p_values_df[\"chi_square\"] = chi_square\n",
        "p_values_df[\"pvalue_to_3_decimal_places\"] = round(p_values_df[\"p_val\"], 3)\n",
        "\n",
        "ind_bin = [0, 0.05, 1]\n",
        "ind_label = [\"Dependence (Reject H0:No dependence)\", \"Independence (Fail to Reject H0: No dependence)\"]\n",
        "p_values_df[\"conclusion\"] = pd.cut(p_values_df[\"p_val\"], bins= ind_bin, labels=ind_label)\n",
        "\n",
        "p_values_df"
      ],
      "metadata": {
        "colab": {
          "base_uri": "https://localhost:8080/",
          "height": 554
        },
        "id": "x5S5_dUfJpxR",
        "outputId": "e789975d-b584-4f5c-afe9-f0f15f8f462d"
      },
      "execution_count": null,
      "outputs": [
        {
          "output_type": "execute_result",
          "data": {
            "text/plain": [
              "                                             p_val   chi_square  \\\n",
              "tBodyAcc-mean()-X                     9.986387e-01     0.238781   \n",
              "tBodyAcc-mean()-Y                     9.999065e-01     0.079965   \n",
              "tBodyAcc-mean()-Z                     9.995984e-01     0.144583   \n",
              "tBodyAcc-std()-X                      0.000000e+00  2331.110364   \n",
              "tBodyAcc-std()-Y                      0.000000e+00  2313.787203   \n",
              "...                                            ...          ...   \n",
              "angle(tBodyGyroJerkMean,gravityMean)  2.743237e-01     6.342277   \n",
              "angle(X,gravityMean)                  0.000000e+00  2483.276038   \n",
              "angle(Y,gravityMean)                  4.852628e-66   315.414035   \n",
              "angle(Z,gravityMean)                  6.136118e-41   198.436350   \n",
              "subject                               2.364787e-01     6.793219   \n",
              "\n",
              "                                      pvalue_to_3_decimal_places  \\\n",
              "tBodyAcc-mean()-X                                          0.999   \n",
              "tBodyAcc-mean()-Y                                          1.000   \n",
              "tBodyAcc-mean()-Z                                          1.000   \n",
              "tBodyAcc-std()-X                                           0.000   \n",
              "tBodyAcc-std()-Y                                           0.000   \n",
              "...                                                          ...   \n",
              "angle(tBodyGyroJerkMean,gravityMean)                       0.274   \n",
              "angle(X,gravityMean)                                       0.000   \n",
              "angle(Y,gravityMean)                                       0.000   \n",
              "angle(Z,gravityMean)                                       0.000   \n",
              "subject                                                    0.236   \n",
              "\n",
              "                                                                           conclusion  \n",
              "tBodyAcc-mean()-X                     Independence (Fail to Reject H0: No dependence)  \n",
              "tBodyAcc-mean()-Y                     Independence (Fail to Reject H0: No dependence)  \n",
              "tBodyAcc-mean()-Z                     Independence (Fail to Reject H0: No dependence)  \n",
              "tBodyAcc-std()-X                                                                  NaN  \n",
              "tBodyAcc-std()-Y                                                                  NaN  \n",
              "...                                                                               ...  \n",
              "angle(tBodyGyroJerkMean,gravityMean)  Independence (Fail to Reject H0: No dependence)  \n",
              "angle(X,gravityMean)                                                              NaN  \n",
              "angle(Y,gravityMean)                             Dependence (Reject H0:No dependence)  \n",
              "angle(Z,gravityMean)                             Dependence (Reject H0:No dependence)  \n",
              "subject                               Independence (Fail to Reject H0: No dependence)  \n",
              "\n",
              "[562 rows x 4 columns]"
            ],
            "text/html": [
              "\n",
              "  <div id=\"df-85186d14-f853-4a28-8042-756f09220b5f\">\n",
              "    <div class=\"colab-df-container\">\n",
              "      <div>\n",
              "<style scoped>\n",
              "    .dataframe tbody tr th:only-of-type {\n",
              "        vertical-align: middle;\n",
              "    }\n",
              "\n",
              "    .dataframe tbody tr th {\n",
              "        vertical-align: top;\n",
              "    }\n",
              "\n",
              "    .dataframe thead th {\n",
              "        text-align: right;\n",
              "    }\n",
              "</style>\n",
              "<table border=\"1\" class=\"dataframe\">\n",
              "  <thead>\n",
              "    <tr style=\"text-align: right;\">\n",
              "      <th></th>\n",
              "      <th>p_val</th>\n",
              "      <th>chi_square</th>\n",
              "      <th>pvalue_to_3_decimal_places</th>\n",
              "      <th>conclusion</th>\n",
              "    </tr>\n",
              "  </thead>\n",
              "  <tbody>\n",
              "    <tr>\n",
              "      <th>tBodyAcc-mean()-X</th>\n",
              "      <td>9.986387e-01</td>\n",
              "      <td>0.238781</td>\n",
              "      <td>0.999</td>\n",
              "      <td>Independence (Fail to Reject H0: No dependence)</td>\n",
              "    </tr>\n",
              "    <tr>\n",
              "      <th>tBodyAcc-mean()-Y</th>\n",
              "      <td>9.999065e-01</td>\n",
              "      <td>0.079965</td>\n",
              "      <td>1.000</td>\n",
              "      <td>Independence (Fail to Reject H0: No dependence)</td>\n",
              "    </tr>\n",
              "    <tr>\n",
              "      <th>tBodyAcc-mean()-Z</th>\n",
              "      <td>9.995984e-01</td>\n",
              "      <td>0.144583</td>\n",
              "      <td>1.000</td>\n",
              "      <td>Independence (Fail to Reject H0: No dependence)</td>\n",
              "    </tr>\n",
              "    <tr>\n",
              "      <th>tBodyAcc-std()-X</th>\n",
              "      <td>0.000000e+00</td>\n",
              "      <td>2331.110364</td>\n",
              "      <td>0.000</td>\n",
              "      <td>NaN</td>\n",
              "    </tr>\n",
              "    <tr>\n",
              "      <th>tBodyAcc-std()-Y</th>\n",
              "      <td>0.000000e+00</td>\n",
              "      <td>2313.787203</td>\n",
              "      <td>0.000</td>\n",
              "      <td>NaN</td>\n",
              "    </tr>\n",
              "    <tr>\n",
              "      <th>...</th>\n",
              "      <td>...</td>\n",
              "      <td>...</td>\n",
              "      <td>...</td>\n",
              "      <td>...</td>\n",
              "    </tr>\n",
              "    <tr>\n",
              "      <th>angle(tBodyGyroJerkMean,gravityMean)</th>\n",
              "      <td>2.743237e-01</td>\n",
              "      <td>6.342277</td>\n",
              "      <td>0.274</td>\n",
              "      <td>Independence (Fail to Reject H0: No dependence)</td>\n",
              "    </tr>\n",
              "    <tr>\n",
              "      <th>angle(X,gravityMean)</th>\n",
              "      <td>0.000000e+00</td>\n",
              "      <td>2483.276038</td>\n",
              "      <td>0.000</td>\n",
              "      <td>NaN</td>\n",
              "    </tr>\n",
              "    <tr>\n",
              "      <th>angle(Y,gravityMean)</th>\n",
              "      <td>4.852628e-66</td>\n",
              "      <td>315.414035</td>\n",
              "      <td>0.000</td>\n",
              "      <td>Dependence (Reject H0:No dependence)</td>\n",
              "    </tr>\n",
              "    <tr>\n",
              "      <th>angle(Z,gravityMean)</th>\n",
              "      <td>6.136118e-41</td>\n",
              "      <td>198.436350</td>\n",
              "      <td>0.000</td>\n",
              "      <td>Dependence (Reject H0:No dependence)</td>\n",
              "    </tr>\n",
              "    <tr>\n",
              "      <th>subject</th>\n",
              "      <td>2.364787e-01</td>\n",
              "      <td>6.793219</td>\n",
              "      <td>0.236</td>\n",
              "      <td>Independence (Fail to Reject H0: No dependence)</td>\n",
              "    </tr>\n",
              "  </tbody>\n",
              "</table>\n",
              "<p>562 rows × 4 columns</p>\n",
              "</div>\n",
              "      <button class=\"colab-df-convert\" onclick=\"convertToInteractive('df-85186d14-f853-4a28-8042-756f09220b5f')\"\n",
              "              title=\"Convert this dataframe to an interactive table.\"\n",
              "              style=\"display:none;\">\n",
              "        \n",
              "  <svg xmlns=\"http://www.w3.org/2000/svg\" height=\"24px\"viewBox=\"0 0 24 24\"\n",
              "       width=\"24px\">\n",
              "    <path d=\"M0 0h24v24H0V0z\" fill=\"none\"/>\n",
              "    <path d=\"M18.56 5.44l.94 2.06.94-2.06 2.06-.94-2.06-.94-.94-2.06-.94 2.06-2.06.94zm-11 1L8.5 8.5l.94-2.06 2.06-.94-2.06-.94L8.5 2.5l-.94 2.06-2.06.94zm10 10l.94 2.06.94-2.06 2.06-.94-2.06-.94-.94-2.06-.94 2.06-2.06.94z\"/><path d=\"M17.41 7.96l-1.37-1.37c-.4-.4-.92-.59-1.43-.59-.52 0-1.04.2-1.43.59L10.3 9.45l-7.72 7.72c-.78.78-.78 2.05 0 2.83L4 21.41c.39.39.9.59 1.41.59.51 0 1.02-.2 1.41-.59l7.78-7.78 2.81-2.81c.8-.78.8-2.07 0-2.86zM5.41 20L4 18.59l7.72-7.72 1.47 1.35L5.41 20z\"/>\n",
              "  </svg>\n",
              "      </button>\n",
              "      \n",
              "  <style>\n",
              "    .colab-df-container {\n",
              "      display:flex;\n",
              "      flex-wrap:wrap;\n",
              "      gap: 12px;\n",
              "    }\n",
              "\n",
              "    .colab-df-convert {\n",
              "      background-color: #E8F0FE;\n",
              "      border: none;\n",
              "      border-radius: 50%;\n",
              "      cursor: pointer;\n",
              "      display: none;\n",
              "      fill: #1967D2;\n",
              "      height: 32px;\n",
              "      padding: 0 0 0 0;\n",
              "      width: 32px;\n",
              "    }\n",
              "\n",
              "    .colab-df-convert:hover {\n",
              "      background-color: #E2EBFA;\n",
              "      box-shadow: 0px 1px 2px rgba(60, 64, 67, 0.3), 0px 1px 3px 1px rgba(60, 64, 67, 0.15);\n",
              "      fill: #174EA6;\n",
              "    }\n",
              "\n",
              "    [theme=dark] .colab-df-convert {\n",
              "      background-color: #3B4455;\n",
              "      fill: #D2E3FC;\n",
              "    }\n",
              "\n",
              "    [theme=dark] .colab-df-convert:hover {\n",
              "      background-color: #434B5C;\n",
              "      box-shadow: 0px 1px 3px 1px rgba(0, 0, 0, 0.15);\n",
              "      filter: drop-shadow(0px 1px 2px rgba(0, 0, 0, 0.3));\n",
              "      fill: #FFFFFF;\n",
              "    }\n",
              "  </style>\n",
              "\n",
              "      <script>\n",
              "        const buttonEl =\n",
              "          document.querySelector('#df-85186d14-f853-4a28-8042-756f09220b5f button.colab-df-convert');\n",
              "        buttonEl.style.display =\n",
              "          google.colab.kernel.accessAllowed ? 'block' : 'none';\n",
              "\n",
              "        async function convertToInteractive(key) {\n",
              "          const element = document.querySelector('#df-85186d14-f853-4a28-8042-756f09220b5f');\n",
              "          const dataTable =\n",
              "            await google.colab.kernel.invokeFunction('convertToInteractive',\n",
              "                                                     [key], {});\n",
              "          if (!dataTable) return;\n",
              "\n",
              "          const docLinkHtml = 'Like what you see? Visit the ' +\n",
              "            '<a target=\"_blank\" href=https://colab.research.google.com/notebooks/data_table.ipynb>data table notebook</a>'\n",
              "            + ' to learn more about interactive tables.';\n",
              "          element.innerHTML = '';\n",
              "          dataTable['output_type'] = 'display_data';\n",
              "          await google.colab.output.renderOutput(dataTable, element);\n",
              "          const docLink = document.createElement('div');\n",
              "          docLink.innerHTML = docLinkHtml;\n",
              "          element.appendChild(docLink);\n",
              "        }\n",
              "      </script>\n",
              "    </div>\n",
              "  </div>\n",
              "  "
            ]
          },
          "metadata": {},
          "execution_count": 59
        }
      ]
    },
    {
      "cell_type": "code",
      "source": [
        "len(Q.columns)"
      ],
      "metadata": {
        "colab": {
          "base_uri": "https://localhost:8080/"
        },
        "id": "_nQ6kmoWNgIn",
        "outputId": "d8e7242b-11b5-4afa-e922-29e4f2103e74"
      },
      "execution_count": null,
      "outputs": [
        {
          "output_type": "execute_result",
          "data": {
            "text/plain": [
              "563"
            ]
          },
          "metadata": {},
          "execution_count": 60
        }
      ]
    },
    {
      "cell_type": "markdown",
      "source": [
        "excluding the features that fail to reject the null hypothesis (p-value >= alpha) and selecting the features that reject the null hypothesis (p-value < alpha) for inclusion in the final feature set, Exculding the NaN features.\n"
      ],
      "metadata": {
        "id": "yQq-9MovLhtI"
      }
    },
    {
      "cell_type": "code",
      "source": [
        "filtered_df = p_values_df[p_values_df['conclusion'] == 'Independence (Fail to Reject H0: No dependence)']\n",
        "filtered_df"
      ],
      "metadata": {
        "colab": {
          "base_uri": "https://localhost:8080/",
          "height": 1000
        },
        "id": "EwBdRlpnMrx3",
        "outputId": "9a5e52e8-110d-44b0-ba17-e5d0bbc28c89"
      },
      "execution_count": null,
      "outputs": [
        {
          "output_type": "execute_result",
          "data": {
            "text/plain": [
              "                                         p_val  chi_square  \\\n",
              "tBodyAcc-mean()-X                     0.998639    0.238781   \n",
              "tBodyAcc-mean()-Y                     0.999907    0.079965   \n",
              "tBodyAcc-mean()-Z                     0.999598    0.144583   \n",
              "tBodyAcc-arCoeff()-Y,3                0.160996    7.914765   \n",
              "tBodyAcc-arCoeff()-Y,4                0.323563    5.825572   \n",
              "tBodyAccJerk-mean()-X                 0.999816    0.105230   \n",
              "tBodyAccJerk-mean()-Y                 0.999943    0.065627   \n",
              "tBodyAccJerk-mean()-Z                 0.999996    0.022104   \n",
              "tBodyAccJerk-arCoeff()-X,2            0.508736    4.288021   \n",
              "tBodyAccJerk-arCoeff()-Y,4            0.166096    7.825887   \n",
              "tBodyGyro-mean()-X                    0.628539    3.465998   \n",
              "tBodyGyro-mean()-Y                    0.965120    0.967806   \n",
              "tBodyGyro-mean()-Z                    0.847499    2.011879   \n",
              "tBodyGyro-arCoeff()-X,3               0.085270    9.666034   \n",
              "tBodyGyroJerk-mean()-X                0.983477    0.690671   \n",
              "tBodyGyroJerk-mean()-Y                0.999862    0.093758   \n",
              "tBodyGyroJerk-mean()-Z                0.999787    0.111574   \n",
              "tBodyGyroJerk-arCoeff()-X,4           0.942701    1.222499   \n",
              "tBodyGyroJerk-arCoeff()-Y,3           0.163102    7.877776   \n",
              "tBodyGyroJerk-arCoeff()-Y,4           0.255954    6.554282   \n",
              "tBodyGyroJerk-correlation()-X,Z       0.075316    9.997136   \n",
              "tBodyAccJerkMag-arCoeff()3            0.467841    4.590697   \n",
              "tBodyGyroMag-arCoeff()3               0.163588    7.869297   \n",
              "tBodyGyroMag-arCoeff()4               0.143897    8.232155   \n",
              "tBodyGyroJerkMag-arCoeff()3           0.322295    5.838077   \n",
              "fBodyBodyAccJerkMag-maxInds           0.142848    8.252693   \n",
              "fBodyBodyGyroJerkMag-meanFreq()       0.288499    6.186429   \n",
              "angle(tBodyAccMean,gravity)           0.817673    2.221858   \n",
              "angle(tBodyAccJerkMean),gravityMean)  0.986040    0.641185   \n",
              "angle(tBodyGyroJerkMean,gravityMean)  0.274324    6.342277   \n",
              "subject                               0.236479    6.793219   \n",
              "\n",
              "                                      pvalue_to_3_decimal_places  \\\n",
              "tBodyAcc-mean()-X                                          0.999   \n",
              "tBodyAcc-mean()-Y                                          1.000   \n",
              "tBodyAcc-mean()-Z                                          1.000   \n",
              "tBodyAcc-arCoeff()-Y,3                                     0.161   \n",
              "tBodyAcc-arCoeff()-Y,4                                     0.324   \n",
              "tBodyAccJerk-mean()-X                                      1.000   \n",
              "tBodyAccJerk-mean()-Y                                      1.000   \n",
              "tBodyAccJerk-mean()-Z                                      1.000   \n",
              "tBodyAccJerk-arCoeff()-X,2                                 0.509   \n",
              "tBodyAccJerk-arCoeff()-Y,4                                 0.166   \n",
              "tBodyGyro-mean()-X                                         0.629   \n",
              "tBodyGyro-mean()-Y                                         0.965   \n",
              "tBodyGyro-mean()-Z                                         0.847   \n",
              "tBodyGyro-arCoeff()-X,3                                    0.085   \n",
              "tBodyGyroJerk-mean()-X                                     0.983   \n",
              "tBodyGyroJerk-mean()-Y                                     1.000   \n",
              "tBodyGyroJerk-mean()-Z                                     1.000   \n",
              "tBodyGyroJerk-arCoeff()-X,4                                0.943   \n",
              "tBodyGyroJerk-arCoeff()-Y,3                                0.163   \n",
              "tBodyGyroJerk-arCoeff()-Y,4                                0.256   \n",
              "tBodyGyroJerk-correlation()-X,Z                            0.075   \n",
              "tBodyAccJerkMag-arCoeff()3                                 0.468   \n",
              "tBodyGyroMag-arCoeff()3                                    0.164   \n",
              "tBodyGyroMag-arCoeff()4                                    0.144   \n",
              "tBodyGyroJerkMag-arCoeff()3                                0.322   \n",
              "fBodyBodyAccJerkMag-maxInds                                0.143   \n",
              "fBodyBodyGyroJerkMag-meanFreq()                            0.288   \n",
              "angle(tBodyAccMean,gravity)                                0.818   \n",
              "angle(tBodyAccJerkMean),gravityMean)                       0.986   \n",
              "angle(tBodyGyroJerkMean,gravityMean)                       0.274   \n",
              "subject                                                    0.236   \n",
              "\n",
              "                                                                           conclusion  \n",
              "tBodyAcc-mean()-X                     Independence (Fail to Reject H0: No dependence)  \n",
              "tBodyAcc-mean()-Y                     Independence (Fail to Reject H0: No dependence)  \n",
              "tBodyAcc-mean()-Z                     Independence (Fail to Reject H0: No dependence)  \n",
              "tBodyAcc-arCoeff()-Y,3                Independence (Fail to Reject H0: No dependence)  \n",
              "tBodyAcc-arCoeff()-Y,4                Independence (Fail to Reject H0: No dependence)  \n",
              "tBodyAccJerk-mean()-X                 Independence (Fail to Reject H0: No dependence)  \n",
              "tBodyAccJerk-mean()-Y                 Independence (Fail to Reject H0: No dependence)  \n",
              "tBodyAccJerk-mean()-Z                 Independence (Fail to Reject H0: No dependence)  \n",
              "tBodyAccJerk-arCoeff()-X,2            Independence (Fail to Reject H0: No dependence)  \n",
              "tBodyAccJerk-arCoeff()-Y,4            Independence (Fail to Reject H0: No dependence)  \n",
              "tBodyGyro-mean()-X                    Independence (Fail to Reject H0: No dependence)  \n",
              "tBodyGyro-mean()-Y                    Independence (Fail to Reject H0: No dependence)  \n",
              "tBodyGyro-mean()-Z                    Independence (Fail to Reject H0: No dependence)  \n",
              "tBodyGyro-arCoeff()-X,3               Independence (Fail to Reject H0: No dependence)  \n",
              "tBodyGyroJerk-mean()-X                Independence (Fail to Reject H0: No dependence)  \n",
              "tBodyGyroJerk-mean()-Y                Independence (Fail to Reject H0: No dependence)  \n",
              "tBodyGyroJerk-mean()-Z                Independence (Fail to Reject H0: No dependence)  \n",
              "tBodyGyroJerk-arCoeff()-X,4           Independence (Fail to Reject H0: No dependence)  \n",
              "tBodyGyroJerk-arCoeff()-Y,3           Independence (Fail to Reject H0: No dependence)  \n",
              "tBodyGyroJerk-arCoeff()-Y,4           Independence (Fail to Reject H0: No dependence)  \n",
              "tBodyGyroJerk-correlation()-X,Z       Independence (Fail to Reject H0: No dependence)  \n",
              "tBodyAccJerkMag-arCoeff()3            Independence (Fail to Reject H0: No dependence)  \n",
              "tBodyGyroMag-arCoeff()3               Independence (Fail to Reject H0: No dependence)  \n",
              "tBodyGyroMag-arCoeff()4               Independence (Fail to Reject H0: No dependence)  \n",
              "tBodyGyroJerkMag-arCoeff()3           Independence (Fail to Reject H0: No dependence)  \n",
              "fBodyBodyAccJerkMag-maxInds           Independence (Fail to Reject H0: No dependence)  \n",
              "fBodyBodyGyroJerkMag-meanFreq()       Independence (Fail to Reject H0: No dependence)  \n",
              "angle(tBodyAccMean,gravity)           Independence (Fail to Reject H0: No dependence)  \n",
              "angle(tBodyAccJerkMean),gravityMean)  Independence (Fail to Reject H0: No dependence)  \n",
              "angle(tBodyGyroJerkMean,gravityMean)  Independence (Fail to Reject H0: No dependence)  \n",
              "subject                               Independence (Fail to Reject H0: No dependence)  "
            ],
            "text/html": [
              "\n",
              "  <div id=\"df-e3c60541-0dbb-4d60-9063-34913202f388\">\n",
              "    <div class=\"colab-df-container\">\n",
              "      <div>\n",
              "<style scoped>\n",
              "    .dataframe tbody tr th:only-of-type {\n",
              "        vertical-align: middle;\n",
              "    }\n",
              "\n",
              "    .dataframe tbody tr th {\n",
              "        vertical-align: top;\n",
              "    }\n",
              "\n",
              "    .dataframe thead th {\n",
              "        text-align: right;\n",
              "    }\n",
              "</style>\n",
              "<table border=\"1\" class=\"dataframe\">\n",
              "  <thead>\n",
              "    <tr style=\"text-align: right;\">\n",
              "      <th></th>\n",
              "      <th>p_val</th>\n",
              "      <th>chi_square</th>\n",
              "      <th>pvalue_to_3_decimal_places</th>\n",
              "      <th>conclusion</th>\n",
              "    </tr>\n",
              "  </thead>\n",
              "  <tbody>\n",
              "    <tr>\n",
              "      <th>tBodyAcc-mean()-X</th>\n",
              "      <td>0.998639</td>\n",
              "      <td>0.238781</td>\n",
              "      <td>0.999</td>\n",
              "      <td>Independence (Fail to Reject H0: No dependence)</td>\n",
              "    </tr>\n",
              "    <tr>\n",
              "      <th>tBodyAcc-mean()-Y</th>\n",
              "      <td>0.999907</td>\n",
              "      <td>0.079965</td>\n",
              "      <td>1.000</td>\n",
              "      <td>Independence (Fail to Reject H0: No dependence)</td>\n",
              "    </tr>\n",
              "    <tr>\n",
              "      <th>tBodyAcc-mean()-Z</th>\n",
              "      <td>0.999598</td>\n",
              "      <td>0.144583</td>\n",
              "      <td>1.000</td>\n",
              "      <td>Independence (Fail to Reject H0: No dependence)</td>\n",
              "    </tr>\n",
              "    <tr>\n",
              "      <th>tBodyAcc-arCoeff()-Y,3</th>\n",
              "      <td>0.160996</td>\n",
              "      <td>7.914765</td>\n",
              "      <td>0.161</td>\n",
              "      <td>Independence (Fail to Reject H0: No dependence)</td>\n",
              "    </tr>\n",
              "    <tr>\n",
              "      <th>tBodyAcc-arCoeff()-Y,4</th>\n",
              "      <td>0.323563</td>\n",
              "      <td>5.825572</td>\n",
              "      <td>0.324</td>\n",
              "      <td>Independence (Fail to Reject H0: No dependence)</td>\n",
              "    </tr>\n",
              "    <tr>\n",
              "      <th>tBodyAccJerk-mean()-X</th>\n",
              "      <td>0.999816</td>\n",
              "      <td>0.105230</td>\n",
              "      <td>1.000</td>\n",
              "      <td>Independence (Fail to Reject H0: No dependence)</td>\n",
              "    </tr>\n",
              "    <tr>\n",
              "      <th>tBodyAccJerk-mean()-Y</th>\n",
              "      <td>0.999943</td>\n",
              "      <td>0.065627</td>\n",
              "      <td>1.000</td>\n",
              "      <td>Independence (Fail to Reject H0: No dependence)</td>\n",
              "    </tr>\n",
              "    <tr>\n",
              "      <th>tBodyAccJerk-mean()-Z</th>\n",
              "      <td>0.999996</td>\n",
              "      <td>0.022104</td>\n",
              "      <td>1.000</td>\n",
              "      <td>Independence (Fail to Reject H0: No dependence)</td>\n",
              "    </tr>\n",
              "    <tr>\n",
              "      <th>tBodyAccJerk-arCoeff()-X,2</th>\n",
              "      <td>0.508736</td>\n",
              "      <td>4.288021</td>\n",
              "      <td>0.509</td>\n",
              "      <td>Independence (Fail to Reject H0: No dependence)</td>\n",
              "    </tr>\n",
              "    <tr>\n",
              "      <th>tBodyAccJerk-arCoeff()-Y,4</th>\n",
              "      <td>0.166096</td>\n",
              "      <td>7.825887</td>\n",
              "      <td>0.166</td>\n",
              "      <td>Independence (Fail to Reject H0: No dependence)</td>\n",
              "    </tr>\n",
              "    <tr>\n",
              "      <th>tBodyGyro-mean()-X</th>\n",
              "      <td>0.628539</td>\n",
              "      <td>3.465998</td>\n",
              "      <td>0.629</td>\n",
              "      <td>Independence (Fail to Reject H0: No dependence)</td>\n",
              "    </tr>\n",
              "    <tr>\n",
              "      <th>tBodyGyro-mean()-Y</th>\n",
              "      <td>0.965120</td>\n",
              "      <td>0.967806</td>\n",
              "      <td>0.965</td>\n",
              "      <td>Independence (Fail to Reject H0: No dependence)</td>\n",
              "    </tr>\n",
              "    <tr>\n",
              "      <th>tBodyGyro-mean()-Z</th>\n",
              "      <td>0.847499</td>\n",
              "      <td>2.011879</td>\n",
              "      <td>0.847</td>\n",
              "      <td>Independence (Fail to Reject H0: No dependence)</td>\n",
              "    </tr>\n",
              "    <tr>\n",
              "      <th>tBodyGyro-arCoeff()-X,3</th>\n",
              "      <td>0.085270</td>\n",
              "      <td>9.666034</td>\n",
              "      <td>0.085</td>\n",
              "      <td>Independence (Fail to Reject H0: No dependence)</td>\n",
              "    </tr>\n",
              "    <tr>\n",
              "      <th>tBodyGyroJerk-mean()-X</th>\n",
              "      <td>0.983477</td>\n",
              "      <td>0.690671</td>\n",
              "      <td>0.983</td>\n",
              "      <td>Independence (Fail to Reject H0: No dependence)</td>\n",
              "    </tr>\n",
              "    <tr>\n",
              "      <th>tBodyGyroJerk-mean()-Y</th>\n",
              "      <td>0.999862</td>\n",
              "      <td>0.093758</td>\n",
              "      <td>1.000</td>\n",
              "      <td>Independence (Fail to Reject H0: No dependence)</td>\n",
              "    </tr>\n",
              "    <tr>\n",
              "      <th>tBodyGyroJerk-mean()-Z</th>\n",
              "      <td>0.999787</td>\n",
              "      <td>0.111574</td>\n",
              "      <td>1.000</td>\n",
              "      <td>Independence (Fail to Reject H0: No dependence)</td>\n",
              "    </tr>\n",
              "    <tr>\n",
              "      <th>tBodyGyroJerk-arCoeff()-X,4</th>\n",
              "      <td>0.942701</td>\n",
              "      <td>1.222499</td>\n",
              "      <td>0.943</td>\n",
              "      <td>Independence (Fail to Reject H0: No dependence)</td>\n",
              "    </tr>\n",
              "    <tr>\n",
              "      <th>tBodyGyroJerk-arCoeff()-Y,3</th>\n",
              "      <td>0.163102</td>\n",
              "      <td>7.877776</td>\n",
              "      <td>0.163</td>\n",
              "      <td>Independence (Fail to Reject H0: No dependence)</td>\n",
              "    </tr>\n",
              "    <tr>\n",
              "      <th>tBodyGyroJerk-arCoeff()-Y,4</th>\n",
              "      <td>0.255954</td>\n",
              "      <td>6.554282</td>\n",
              "      <td>0.256</td>\n",
              "      <td>Independence (Fail to Reject H0: No dependence)</td>\n",
              "    </tr>\n",
              "    <tr>\n",
              "      <th>tBodyGyroJerk-correlation()-X,Z</th>\n",
              "      <td>0.075316</td>\n",
              "      <td>9.997136</td>\n",
              "      <td>0.075</td>\n",
              "      <td>Independence (Fail to Reject H0: No dependence)</td>\n",
              "    </tr>\n",
              "    <tr>\n",
              "      <th>tBodyAccJerkMag-arCoeff()3</th>\n",
              "      <td>0.467841</td>\n",
              "      <td>4.590697</td>\n",
              "      <td>0.468</td>\n",
              "      <td>Independence (Fail to Reject H0: No dependence)</td>\n",
              "    </tr>\n",
              "    <tr>\n",
              "      <th>tBodyGyroMag-arCoeff()3</th>\n",
              "      <td>0.163588</td>\n",
              "      <td>7.869297</td>\n",
              "      <td>0.164</td>\n",
              "      <td>Independence (Fail to Reject H0: No dependence)</td>\n",
              "    </tr>\n",
              "    <tr>\n",
              "      <th>tBodyGyroMag-arCoeff()4</th>\n",
              "      <td>0.143897</td>\n",
              "      <td>8.232155</td>\n",
              "      <td>0.144</td>\n",
              "      <td>Independence (Fail to Reject H0: No dependence)</td>\n",
              "    </tr>\n",
              "    <tr>\n",
              "      <th>tBodyGyroJerkMag-arCoeff()3</th>\n",
              "      <td>0.322295</td>\n",
              "      <td>5.838077</td>\n",
              "      <td>0.322</td>\n",
              "      <td>Independence (Fail to Reject H0: No dependence)</td>\n",
              "    </tr>\n",
              "    <tr>\n",
              "      <th>fBodyBodyAccJerkMag-maxInds</th>\n",
              "      <td>0.142848</td>\n",
              "      <td>8.252693</td>\n",
              "      <td>0.143</td>\n",
              "      <td>Independence (Fail to Reject H0: No dependence)</td>\n",
              "    </tr>\n",
              "    <tr>\n",
              "      <th>fBodyBodyGyroJerkMag-meanFreq()</th>\n",
              "      <td>0.288499</td>\n",
              "      <td>6.186429</td>\n",
              "      <td>0.288</td>\n",
              "      <td>Independence (Fail to Reject H0: No dependence)</td>\n",
              "    </tr>\n",
              "    <tr>\n",
              "      <th>angle(tBodyAccMean,gravity)</th>\n",
              "      <td>0.817673</td>\n",
              "      <td>2.221858</td>\n",
              "      <td>0.818</td>\n",
              "      <td>Independence (Fail to Reject H0: No dependence)</td>\n",
              "    </tr>\n",
              "    <tr>\n",
              "      <th>angle(tBodyAccJerkMean),gravityMean)</th>\n",
              "      <td>0.986040</td>\n",
              "      <td>0.641185</td>\n",
              "      <td>0.986</td>\n",
              "      <td>Independence (Fail to Reject H0: No dependence)</td>\n",
              "    </tr>\n",
              "    <tr>\n",
              "      <th>angle(tBodyGyroJerkMean,gravityMean)</th>\n",
              "      <td>0.274324</td>\n",
              "      <td>6.342277</td>\n",
              "      <td>0.274</td>\n",
              "      <td>Independence (Fail to Reject H0: No dependence)</td>\n",
              "    </tr>\n",
              "    <tr>\n",
              "      <th>subject</th>\n",
              "      <td>0.236479</td>\n",
              "      <td>6.793219</td>\n",
              "      <td>0.236</td>\n",
              "      <td>Independence (Fail to Reject H0: No dependence)</td>\n",
              "    </tr>\n",
              "  </tbody>\n",
              "</table>\n",
              "</div>\n",
              "      <button class=\"colab-df-convert\" onclick=\"convertToInteractive('df-e3c60541-0dbb-4d60-9063-34913202f388')\"\n",
              "              title=\"Convert this dataframe to an interactive table.\"\n",
              "              style=\"display:none;\">\n",
              "        \n",
              "  <svg xmlns=\"http://www.w3.org/2000/svg\" height=\"24px\"viewBox=\"0 0 24 24\"\n",
              "       width=\"24px\">\n",
              "    <path d=\"M0 0h24v24H0V0z\" fill=\"none\"/>\n",
              "    <path d=\"M18.56 5.44l.94 2.06.94-2.06 2.06-.94-2.06-.94-.94-2.06-.94 2.06-2.06.94zm-11 1L8.5 8.5l.94-2.06 2.06-.94-2.06-.94L8.5 2.5l-.94 2.06-2.06.94zm10 10l.94 2.06.94-2.06 2.06-.94-2.06-.94-.94-2.06-.94 2.06-2.06.94z\"/><path d=\"M17.41 7.96l-1.37-1.37c-.4-.4-.92-.59-1.43-.59-.52 0-1.04.2-1.43.59L10.3 9.45l-7.72 7.72c-.78.78-.78 2.05 0 2.83L4 21.41c.39.39.9.59 1.41.59.51 0 1.02-.2 1.41-.59l7.78-7.78 2.81-2.81c.8-.78.8-2.07 0-2.86zM5.41 20L4 18.59l7.72-7.72 1.47 1.35L5.41 20z\"/>\n",
              "  </svg>\n",
              "      </button>\n",
              "      \n",
              "  <style>\n",
              "    .colab-df-container {\n",
              "      display:flex;\n",
              "      flex-wrap:wrap;\n",
              "      gap: 12px;\n",
              "    }\n",
              "\n",
              "    .colab-df-convert {\n",
              "      background-color: #E8F0FE;\n",
              "      border: none;\n",
              "      border-radius: 50%;\n",
              "      cursor: pointer;\n",
              "      display: none;\n",
              "      fill: #1967D2;\n",
              "      height: 32px;\n",
              "      padding: 0 0 0 0;\n",
              "      width: 32px;\n",
              "    }\n",
              "\n",
              "    .colab-df-convert:hover {\n",
              "      background-color: #E2EBFA;\n",
              "      box-shadow: 0px 1px 2px rgba(60, 64, 67, 0.3), 0px 1px 3px 1px rgba(60, 64, 67, 0.15);\n",
              "      fill: #174EA6;\n",
              "    }\n",
              "\n",
              "    [theme=dark] .colab-df-convert {\n",
              "      background-color: #3B4455;\n",
              "      fill: #D2E3FC;\n",
              "    }\n",
              "\n",
              "    [theme=dark] .colab-df-convert:hover {\n",
              "      background-color: #434B5C;\n",
              "      box-shadow: 0px 1px 3px 1px rgba(0, 0, 0, 0.15);\n",
              "      filter: drop-shadow(0px 1px 2px rgba(0, 0, 0, 0.3));\n",
              "      fill: #FFFFFF;\n",
              "    }\n",
              "  </style>\n",
              "\n",
              "      <script>\n",
              "        const buttonEl =\n",
              "          document.querySelector('#df-e3c60541-0dbb-4d60-9063-34913202f388 button.colab-df-convert');\n",
              "        buttonEl.style.display =\n",
              "          google.colab.kernel.accessAllowed ? 'block' : 'none';\n",
              "\n",
              "        async function convertToInteractive(key) {\n",
              "          const element = document.querySelector('#df-e3c60541-0dbb-4d60-9063-34913202f388');\n",
              "          const dataTable =\n",
              "            await google.colab.kernel.invokeFunction('convertToInteractive',\n",
              "                                                     [key], {});\n",
              "          if (!dataTable) return;\n",
              "\n",
              "          const docLinkHtml = 'Like what you see? Visit the ' +\n",
              "            '<a target=\"_blank\" href=https://colab.research.google.com/notebooks/data_table.ipynb>data table notebook</a>'\n",
              "            + ' to learn more about interactive tables.';\n",
              "          element.innerHTML = '';\n",
              "          dataTable['output_type'] = 'display_data';\n",
              "          await google.colab.output.renderOutput(dataTable, element);\n",
              "          const docLink = document.createElement('div');\n",
              "          docLink.innerHTML = docLinkHtml;\n",
              "          element.appendChild(docLink);\n",
              "        }\n",
              "      </script>\n",
              "    </div>\n",
              "  </div>\n",
              "  "
            ]
          },
          "metadata": {},
          "execution_count": 61
        }
      ]
    },
    {
      "cell_type": "code",
      "source": [
        "excluded_features =  filtered_df.index.tolist()"
      ],
      "metadata": {
        "id": "6pbXKW7uN2X8"
      },
      "execution_count": null,
      "outputs": []
    },
    {
      "cell_type": "code",
      "source": [
        "print(excluded_features)"
      ],
      "metadata": {
        "colab": {
          "base_uri": "https://localhost:8080/"
        },
        "id": "7UyVxtgYNcB8",
        "outputId": "369ebbec-11a7-4bfc-b5f5-4cd0941a15be"
      },
      "execution_count": null,
      "outputs": [
        {
          "output_type": "stream",
          "name": "stdout",
          "text": [
            "['tBodyAcc-mean()-X', 'tBodyAcc-mean()-Y', 'tBodyAcc-mean()-Z', 'tBodyAcc-arCoeff()-Y,3', 'tBodyAcc-arCoeff()-Y,4', 'tBodyAccJerk-mean()-X', 'tBodyAccJerk-mean()-Y', 'tBodyAccJerk-mean()-Z', 'tBodyAccJerk-arCoeff()-X,2', 'tBodyAccJerk-arCoeff()-Y,4', 'tBodyGyro-mean()-X', 'tBodyGyro-mean()-Y', 'tBodyGyro-mean()-Z', 'tBodyGyro-arCoeff()-X,3', 'tBodyGyroJerk-mean()-X', 'tBodyGyroJerk-mean()-Y', 'tBodyGyroJerk-mean()-Z', 'tBodyGyroJerk-arCoeff()-X,4', 'tBodyGyroJerk-arCoeff()-Y,3', 'tBodyGyroJerk-arCoeff()-Y,4', 'tBodyGyroJerk-correlation()-X,Z', 'tBodyAccJerkMag-arCoeff()3', 'tBodyGyroMag-arCoeff()3', 'tBodyGyroMag-arCoeff()4', 'tBodyGyroJerkMag-arCoeff()3', 'fBodyBodyAccJerkMag-maxInds', 'fBodyBodyGyroJerkMag-meanFreq()', 'angle(tBodyAccMean,gravity)', 'angle(tBodyAccJerkMean),gravityMean)', 'angle(tBodyGyroJerkMean,gravityMean)', 'subject']\n"
          ]
        }
      ]
    },
    {
      "cell_type": "code",
      "source": [
        "# R, S for train set \n",
        "R_train = train.drop(['tBodyAcc-mean()-X', 'tBodyAcc-mean()-Y', 'tBodyAcc-mean()-Z', 'tBodyAcc-arCoeff()-Y,3', 'tBodyAcc-arCoeff()-Y,4', 'tBodyAccJerk-mean()-X', 'tBodyAccJerk-mean()-Y', 'tBodyAccJerk-mean()-Z', 'tBodyAccJerk-arCoeff()-X,2', 'tBodyAccJerk-arCoeff()-Y,4', 'tBodyGyro-mean()-X', 'tBodyGyro-mean()-Y', 'tBodyGyro-mean()-Z', 'tBodyGyro-arCoeff()-X,3', 'tBodyGyroJerk-mean()-X', 'tBodyGyroJerk-mean()-Y', 'tBodyGyroJerk-mean()-Z', 'tBodyGyroJerk-arCoeff()-X,4', 'tBodyGyroJerk-arCoeff()-Y,3', 'tBodyGyroJerk-arCoeff()-Y,4', 'tBodyGyroJerk-correlation()-X,Z', 'tBodyAccJerkMag-arCoeff()3', 'tBodyGyroMag-arCoeff()3', 'tBodyGyroMag-arCoeff()4', 'tBodyGyroJerkMag-arCoeff()3', 'fBodyBodyAccJerkMag-maxInds', 'fBodyBodyGyroJerkMag-meanFreq()', 'angle(tBodyAccMean,gravity)', 'angle(tBodyAccJerkMean),gravityMean)', 'angle(tBodyGyroJerkMean,gravityMean)','subject','Activity'], axis = 1)\n",
        "S_train= train['Activity']\n",
        "\n",
        "r = len(R_train)\n",
        "s = len(S_train)\n",
        "\n",
        "print(r,s)"
      ],
      "metadata": {
        "colab": {
          "base_uri": "https://localhost:8080/"
        },
        "id": "TiPFajQHNfKp",
        "outputId": "e9cdaa1d-dbd1-4b4d-e48c-da7110445c5c"
      },
      "execution_count": null,
      "outputs": [
        {
          "output_type": "stream",
          "name": "stdout",
          "text": [
            "7352 7352\n"
          ]
        }
      ]
    },
    {
      "cell_type": "code",
      "source": [
        "# C, D for test set \n",
        "\n",
        "R_test = test.drop(['tBodyAcc-mean()-X', 'tBodyAcc-mean()-Y', 'tBodyAcc-mean()-Z', 'tBodyAcc-arCoeff()-Y,3', 'tBodyAcc-arCoeff()-Y,4', 'tBodyAccJerk-mean()-X', 'tBodyAccJerk-mean()-Y', 'tBodyAccJerk-mean()-Z', 'tBodyAccJerk-arCoeff()-X,2', 'tBodyAccJerk-arCoeff()-Y,4', 'tBodyGyro-mean()-X', 'tBodyGyro-mean()-Y', 'tBodyGyro-mean()-Z', 'tBodyGyro-arCoeff()-X,3', 'tBodyGyroJerk-mean()-X', 'tBodyGyroJerk-mean()-Y', 'tBodyGyroJerk-mean()-Z', 'tBodyGyroJerk-arCoeff()-X,4', 'tBodyGyroJerk-arCoeff()-Y,3', 'tBodyGyroJerk-arCoeff()-Y,4', 'tBodyGyroJerk-correlation()-X,Z', 'tBodyAccJerkMag-arCoeff()3', 'tBodyGyroMag-arCoeff()3', 'tBodyGyroMag-arCoeff()4', 'tBodyGyroJerkMag-arCoeff()3', 'fBodyBodyAccJerkMag-maxInds', 'fBodyBodyGyroJerkMag-meanFreq()', 'angle(tBodyAccMean,gravity)', 'angle(tBodyAccJerkMean),gravityMean)', 'angle(tBodyGyroJerkMean,gravityMean)','subject','Activity'], axis = 1) \n",
        "S_test= test['Activity']\n",
        "\n",
        "c = len(R_test)\n",
        "d = len(S_test)\n",
        "\n",
        "print(c,d)"
      ],
      "metadata": {
        "colab": {
          "base_uri": "https://localhost:8080/"
        },
        "id": "rL1IpiztN2be",
        "outputId": "b7f96700-37cc-47da-af44-b2e6ba68955c"
      },
      "execution_count": null,
      "outputs": [
        {
          "output_type": "stream",
          "name": "stdout",
          "text": [
            "2947 2947\n"
          ]
        }
      ]
    },
    {
      "cell_type": "code",
      "source": [
        "# Fitting the model\n",
        "model.fit(R_train, S_train)"
      ],
      "metadata": {
        "colab": {
          "base_uri": "https://localhost:8080/",
          "height": 74
        },
        "id": "wbVwPurQOckg",
        "outputId": "f1dc670e-cbee-4e63-b0ef-5986e6501cd4"
      },
      "execution_count": null,
      "outputs": [
        {
          "output_type": "execute_result",
          "data": {
            "text/plain": [
              "LogisticRegression(multi_class='multinomial', solver='newton-cg')"
            ],
            "text/html": [
              "<style>#sk-container-id-5 {color: black;background-color: white;}#sk-container-id-5 pre{padding: 0;}#sk-container-id-5 div.sk-toggleable {background-color: white;}#sk-container-id-5 label.sk-toggleable__label {cursor: pointer;display: block;width: 100%;margin-bottom: 0;padding: 0.3em;box-sizing: border-box;text-align: center;}#sk-container-id-5 label.sk-toggleable__label-arrow:before {content: \"▸\";float: left;margin-right: 0.25em;color: #696969;}#sk-container-id-5 label.sk-toggleable__label-arrow:hover:before {color: black;}#sk-container-id-5 div.sk-estimator:hover label.sk-toggleable__label-arrow:before {color: black;}#sk-container-id-5 div.sk-toggleable__content {max-height: 0;max-width: 0;overflow: hidden;text-align: left;background-color: #f0f8ff;}#sk-container-id-5 div.sk-toggleable__content pre {margin: 0.2em;color: black;border-radius: 0.25em;background-color: #f0f8ff;}#sk-container-id-5 input.sk-toggleable__control:checked~div.sk-toggleable__content {max-height: 200px;max-width: 100%;overflow: auto;}#sk-container-id-5 input.sk-toggleable__control:checked~label.sk-toggleable__label-arrow:before {content: \"▾\";}#sk-container-id-5 div.sk-estimator input.sk-toggleable__control:checked~label.sk-toggleable__label {background-color: #d4ebff;}#sk-container-id-5 div.sk-label input.sk-toggleable__control:checked~label.sk-toggleable__label {background-color: #d4ebff;}#sk-container-id-5 input.sk-hidden--visually {border: 0;clip: rect(1px 1px 1px 1px);clip: rect(1px, 1px, 1px, 1px);height: 1px;margin: -1px;overflow: hidden;padding: 0;position: absolute;width: 1px;}#sk-container-id-5 div.sk-estimator {font-family: monospace;background-color: #f0f8ff;border: 1px dotted black;border-radius: 0.25em;box-sizing: border-box;margin-bottom: 0.5em;}#sk-container-id-5 div.sk-estimator:hover {background-color: #d4ebff;}#sk-container-id-5 div.sk-parallel-item::after {content: \"\";width: 100%;border-bottom: 1px solid gray;flex-grow: 1;}#sk-container-id-5 div.sk-label:hover label.sk-toggleable__label {background-color: #d4ebff;}#sk-container-id-5 div.sk-serial::before {content: \"\";position: absolute;border-left: 1px solid gray;box-sizing: border-box;top: 0;bottom: 0;left: 50%;z-index: 0;}#sk-container-id-5 div.sk-serial {display: flex;flex-direction: column;align-items: center;background-color: white;padding-right: 0.2em;padding-left: 0.2em;position: relative;}#sk-container-id-5 div.sk-item {position: relative;z-index: 1;}#sk-container-id-5 div.sk-parallel {display: flex;align-items: stretch;justify-content: center;background-color: white;position: relative;}#sk-container-id-5 div.sk-item::before, #sk-container-id-5 div.sk-parallel-item::before {content: \"\";position: absolute;border-left: 1px solid gray;box-sizing: border-box;top: 0;bottom: 0;left: 50%;z-index: -1;}#sk-container-id-5 div.sk-parallel-item {display: flex;flex-direction: column;z-index: 1;position: relative;background-color: white;}#sk-container-id-5 div.sk-parallel-item:first-child::after {align-self: flex-end;width: 50%;}#sk-container-id-5 div.sk-parallel-item:last-child::after {align-self: flex-start;width: 50%;}#sk-container-id-5 div.sk-parallel-item:only-child::after {width: 0;}#sk-container-id-5 div.sk-dashed-wrapped {border: 1px dashed gray;margin: 0 0.4em 0.5em 0.4em;box-sizing: border-box;padding-bottom: 0.4em;background-color: white;}#sk-container-id-5 div.sk-label label {font-family: monospace;font-weight: bold;display: inline-block;line-height: 1.2em;}#sk-container-id-5 div.sk-label-container {text-align: center;}#sk-container-id-5 div.sk-container {/* jupyter's `normalize.less` sets `[hidden] { display: none; }` but bootstrap.min.css set `[hidden] { display: none !important; }` so we also need the `!important` here to be able to override the default hidden behavior on the sphinx rendered scikit-learn.org. See: https://github.com/scikit-learn/scikit-learn/issues/21755 */display: inline-block !important;position: relative;}#sk-container-id-5 div.sk-text-repr-fallback {display: none;}</style><div id=\"sk-container-id-5\" class=\"sk-top-container\"><div class=\"sk-text-repr-fallback\"><pre>LogisticRegression(multi_class=&#x27;multinomial&#x27;, solver=&#x27;newton-cg&#x27;)</pre><b>In a Jupyter environment, please rerun this cell to show the HTML representation or trust the notebook. <br />On GitHub, the HTML representation is unable to render, please try loading this page with nbviewer.org.</b></div><div class=\"sk-container\" hidden><div class=\"sk-item\"><div class=\"sk-estimator sk-toggleable\"><input class=\"sk-toggleable__control sk-hidden--visually\" id=\"sk-estimator-id-5\" type=\"checkbox\" checked><label for=\"sk-estimator-id-5\" class=\"sk-toggleable__label sk-toggleable__label-arrow\">LogisticRegression</label><div class=\"sk-toggleable__content\"><pre>LogisticRegression(multi_class=&#x27;multinomial&#x27;, solver=&#x27;newton-cg&#x27;)</pre></div></div></div></div></div>"
            ]
          },
          "metadata": {},
          "execution_count": 69
        }
      ]
    },
    {
      "cell_type": "code",
      "source": [
        "# Use the model to predict\n",
        "\n",
        "S_pred = model.predict(R_test)"
      ],
      "metadata": {
        "id": "qB3YXWypOdJO"
      },
      "execution_count": null,
      "outputs": []
    },
    {
      "cell_type": "code",
      "source": [
        "#Prepare for AIC and BIC\n",
        "from sklearn.metrics import mean_squared_error\n",
        "\n",
        "#Y_train_pred = model.predict(X_train)\n",
        "\n",
        "# Calculate the error\n",
        "mse = mean_squared_error(S_test, S_pred)\n",
        "display('MSE: {}'.format(mse))\n",
        "\n",
        "# Calculate number of parameters\n",
        "num_params = len(model.coef_) + 1\n",
        "display('# Parameters: {}'.format(num_params))\n",
        "\n",
        "# Number of samples\n",
        "n = len(S_test)\n",
        "print('# Samples: {}'.format(n))"
      ],
      "metadata": {
        "colab": {
          "base_uri": "https://localhost:8080/",
          "height": 73
        },
        "id": "1ACbtLtWOyzc",
        "outputId": "4888a225-bbde-4e15-a08c-3ec742abb232"
      },
      "execution_count": null,
      "outputs": [
        {
          "output_type": "display_data",
          "data": {
            "text/plain": [
              "'MSE: 0.07668815744825246'"
            ],
            "application/vnd.google.colaboratory.intrinsic+json": {
              "type": "string"
            }
          },
          "metadata": {}
        },
        {
          "output_type": "display_data",
          "data": {
            "text/plain": [
              "'# Parameters: 7'"
            ],
            "application/vnd.google.colaboratory.intrinsic+json": {
              "type": "string"
            }
          },
          "metadata": {}
        },
        {
          "output_type": "stream",
          "name": "stdout",
          "text": [
            "# Samples: 2947\n"
          ]
        }
      ]
    },
    {
      "cell_type": "code",
      "source": [
        "from math import log\n",
        "\n",
        "# Calculate AIC\n",
        "\n",
        "def calculate_aic(n, mse, num_params):\n",
        "  aic = n * log(mse) + 2 * num_params\n",
        "  return aic\n",
        "\n",
        "display('AIC: {}'.format(calculate_aic(n,mse,num_params)))\n",
        "\n",
        "# Calculate BIC\n",
        "\n",
        "def calculate_bic(n, mse, num_params):\n",
        " bic = n * log(mse) + num_params * log(n)\n",
        " return bic\n",
        "\n",
        "display('BIC: {}'.format(calculate_bic(n,mse,num_params)))"
      ],
      "metadata": {
        "colab": {
          "base_uri": "https://localhost:8080/",
          "height": 55
        },
        "id": "VCOgQhPIO4fM",
        "outputId": "9d50b1bd-be61-4c10-d191-f3fca6892f8d"
      },
      "execution_count": null,
      "outputs": [
        {
          "output_type": "display_data",
          "data": {
            "text/plain": [
              "'AIC: -7553.91952727256'"
            ],
            "application/vnd.google.colaboratory.intrinsic+json": {
              "type": "string"
            }
          },
          "metadata": {}
        },
        {
          "output_type": "display_data",
          "data": {
            "text/plain": [
              "'BIC: -7511.9997263933965'"
            ],
            "application/vnd.google.colaboratory.intrinsic+json": {
              "type": "string"
            }
          },
          "metadata": {}
        }
      ]
    },
    {
      "cell_type": "code",
      "source": [
        "# KFold Cross-validation\n",
        "from sklearn.model_selection import KFold, cross_val_score\n",
        "\n",
        "cv = KFold(n_splits=5, shuffle=True, random_state=1)\n",
        "result = cross_val_score(model, R_train, S_train, cv=cv, scoring='accuracy')"
      ],
      "metadata": {
        "id": "R_B1LqDxO9FM"
      },
      "execution_count": null,
      "outputs": []
    },
    {
      "cell_type": "code",
      "source": [
        "# print the score\n",
        "result"
      ],
      "metadata": {
        "colab": {
          "base_uri": "https://localhost:8080/"
        },
        "id": "5ZCYgIZMPCPp",
        "outputId": "14c28a01-e48b-4369-d956-dfff015ffde9"
      },
      "execution_count": null,
      "outputs": [
        {
          "output_type": "execute_result",
          "data": {
            "text/plain": [
              "array([0.98844324, 0.98640381, 0.98435374, 0.98095238, 0.9829932 ])"
            ]
          },
          "metadata": {},
          "execution_count": 74
        }
      ]
    },
    {
      "cell_type": "markdown",
      "source": [
        "Principal Component Analysis"
      ],
      "metadata": {
        "id": "1IvsvZZnPJse"
      }
    },
    {
      "cell_type": "code",
      "source": [
        "# Perform the necessary imports\n",
        "from sklearn.decomposition import PCA\n",
        "from sklearn.preprocessing import StandardScaler\n",
        "from sklearn.pipeline import make_pipeline\n",
        "import matplotlib.pyplot as plt\n",
        "\n",
        "# Save traing and test data to new variables\n",
        "pX_train = X_train\n",
        "py_train = Y_train\n",
        "\n",
        "pX_test = X_test\n",
        "py_test = Y_test\n",
        "\n",
        "# Create scaler: scaler\n",
        "scaler = StandardScaler()\n",
        "\n",
        "# Create a PCA instance: pca\n",
        "pca = PCA()\n",
        "\n",
        "# Create pipeline: pipeline\n",
        "pipeline = make_pipeline(scaler,pca)\n",
        "\n",
        "# Fit the pipeline to 'samples'\n",
        "pipeline.fit(pX_train)\n",
        "\n",
        "# Plot the explained variances\n",
        "features = range(pca.n_components_)\n",
        "variance = pca.explained_variance_\n",
        "plt.bar(features,variance)\n",
        "plt.xlabel('PCA feature')\n",
        "plt.ylabel('variance')\n",
        "# plt.xticks(features)\n",
        "plt.show()\n"
      ],
      "metadata": {
        "colab": {
          "base_uri": "https://localhost:8080/",
          "height": 279
        },
        "id": "i47TZxndPHIK",
        "outputId": "6308f52c-47df-42f0-fb6e-d308d087d1fc"
      },
      "execution_count": null,
      "outputs": [
        {
          "output_type": "display_data",
          "data": {
            "text/plain": [
              "<Figure size 432x288 with 1 Axes>"
            ],
            "image/png": "[encoded data removed]"
          },
          "metadata": {
            "needs_background": "light"
          }
        }
      ]
    },
    {
      "cell_type": "code",
      "source": [
        "#Rescale data\n",
        "x=StandardScaler().fit_transform(pX_train)\n",
        "\n",
        "# Perform dimension reduction with PCA\n",
        "pca = PCA(n_components = 20)\n",
        "data = pca.fit_transform(x)\n"
      ],
      "metadata": {
        "id": "Ix5w0N-FTGVL"
      },
      "execution_count": null,
      "outputs": []
    },
    {
      "cell_type": "code",
      "source": [
        "# Number of components\n",
        "n_pcs= pca.components_.shape[0]\n",
        "\n",
        "# Get the index of the most important feature on EACH component\n",
        "most_important = [np.abs(pca.components_[i]).argmax() for i in range(n_pcs)]\n",
        "initial_feature_names = pX_train.columns\n",
        "\n",
        "# Get the feature names\n",
        "most_important_names = [initial_feature_names[most_important[i]] for i in range(n_pcs)]\n",
        "dic = {'PC{}'.format(i): most_important_names[i] for i in range(n_pcs)}\n",
        "\n",
        "# Build the dataframe\n",
        "df = pd.DataFrame(dic.items())\n",
        "\n",
        "#Inspect dataframe\n",
        "df"
      ],
      "metadata": {
        "colab": {
          "base_uri": "https://localhost:8080/",
          "height": 676
        },
        "id": "ansv1nYcjIAB",
        "outputId": "f3521a62-c646-4275-bb93-b5e0c9224d18"
      },
      "execution_count": null,
      "outputs": [
        {
          "output_type": "execute_result",
          "data": {
            "text/plain": [
              "       0                                1\n",
              "0    PC0                   fBodyAcc-sma()\n",
              "1    PC1            fBodyAcc-meanFreq()-Z\n",
              "2    PC2           tGravityAcc-energy()-X\n",
              "3    PC3              tGravityAcc-max()-Z\n",
              "4    PC4             angle(X,gravityMean)\n",
              "5    PC5  fBodyBodyGyroJerkMag-skewness()\n",
              "6    PC6           fBodyGyro-meanFreq()-Y\n",
              "7    PC7           tBodyAcc-arCoeff()-Y,4\n",
              "8    PC8           fBodyGyro-skewness()-Z\n",
              "9    PC9      tBodyGyroJerk-arCoeff()-Y,3\n",
              "10  PC10  fBodyGyro-bandsEnergy()-49,64.2\n",
              "11  PC11           tBodyAcc-arCoeff()-Y,3\n",
              "12  PC12    fBodyGyro-bandsEnergy()-57,64\n",
              "13  PC13           tBodyAcc-arCoeff()-Z,3\n",
              "14  PC14               tBodyGyro-mean()-X\n",
              "15  PC15           tBodyAcc-arCoeff()-X,3\n",
              "16  PC16   fBodyAcc-bandsEnergy()-49,64.1\n",
              "17  PC17       tBodyAccJerk-arCoeff()-Y,3\n",
              "18  PC18               tBodyGyro-mean()-X\n",
              "19  PC19          tBodyGyro-arCoeff()-X,3"
            ],
            "text/html": [
              "\n",
              "  <div id=\"df-274644bc-2900-4c73-b188-34999eac3303\">\n",
              "    <div class=\"colab-df-container\">\n",
              "      <div>\n",
              "<style scoped>\n",
              "    .dataframe tbody tr th:only-of-type {\n",
              "        vertical-align: middle;\n",
              "    }\n",
              "\n",
              "    .dataframe tbody tr th {\n",
              "        vertical-align: top;\n",
              "    }\n",
              "\n",
              "    .dataframe thead th {\n",
              "        text-align: right;\n",
              "    }\n",
              "</style>\n",
              "<table border=\"1\" class=\"dataframe\">\n",
              "  <thead>\n",
              "    <tr style=\"text-align: right;\">\n",
              "      <th></th>\n",
              "      <th>0</th>\n",
              "      <th>1</th>\n",
              "    </tr>\n",
              "  </thead>\n",
              "  <tbody>\n",
              "    <tr>\n",
              "      <th>0</th>\n",
              "      <td>PC0</td>\n",
              "      <td>fBodyAcc-sma()</td>\n",
              "    </tr>\n",
              "    <tr>\n",
              "      <th>1</th>\n",
              "      <td>PC1</td>\n",
              "      <td>fBodyAcc-meanFreq()-Z</td>\n",
              "    </tr>\n",
              "    <tr>\n",
              "      <th>2</th>\n",
              "      <td>PC2</td>\n",
              "      <td>tGravityAcc-energy()-X</td>\n",
              "    </tr>\n",
              "    <tr>\n",
              "      <th>3</th>\n",
              "      <td>PC3</td>\n",
              "      <td>tGravityAcc-max()-Z</td>\n",
              "    </tr>\n",
              "    <tr>\n",
              "      <th>4</th>\n",
              "      <td>PC4</td>\n",
              "      <td>angle(X,gravityMean)</td>\n",
              "    </tr>\n",
              "    <tr>\n",
              "      <th>5</th>\n",
              "      <td>PC5</td>\n",
              "      <td>fBodyBodyGyroJerkMag-skewness()</td>\n",
              "    </tr>\n",
              "    <tr>\n",
              "      <th>6</th>\n",
              "      <td>PC6</td>\n",
              "      <td>fBodyGyro-meanFreq()-Y</td>\n",
              "    </tr>\n",
              "    <tr>\n",
              "      <th>7</th>\n",
              "      <td>PC7</td>\n",
              "      <td>tBodyAcc-arCoeff()-Y,4</td>\n",
              "    </tr>\n",
              "    <tr>\n",
              "      <th>8</th>\n",
              "      <td>PC8</td>\n",
              "      <td>fBodyGyro-skewness()-Z</td>\n",
              "    </tr>\n",
              "    <tr>\n",
              "      <th>9</th>\n",
              "      <td>PC9</td>\n",
              "      <td>tBodyGyroJerk-arCoeff()-Y,3</td>\n",
              "    </tr>\n",
              "    <tr>\n",
              "      <th>10</th>\n",
              "      <td>PC10</td>\n",
              "      <td>fBodyGyro-bandsEnergy()-49,64.2</td>\n",
              "    </tr>\n",
              "    <tr>\n",
              "      <th>11</th>\n",
              "      <td>PC11</td>\n",
              "      <td>tBodyAcc-arCoeff()-Y,3</td>\n",
              "    </tr>\n",
              "    <tr>\n",
              "      <th>12</th>\n",
              "      <td>PC12</td>\n",
              "      <td>fBodyGyro-bandsEnergy()-57,64</td>\n",
              "    </tr>\n",
              "    <tr>\n",
              "      <th>13</th>\n",
              "      <td>PC13</td>\n",
              "      <td>tBodyAcc-arCoeff()-Z,3</td>\n",
              "    </tr>\n",
              "    <tr>\n",
              "      <th>14</th>\n",
              "      <td>PC14</td>\n",
              "      <td>tBodyGyro-mean()-X</td>\n",
              "    </tr>\n",
              "    <tr>\n",
              "      <th>15</th>\n",
              "      <td>PC15</td>\n",
              "      <td>tBodyAcc-arCoeff()-X,3</td>\n",
              "    </tr>\n",
              "    <tr>\n",
              "      <th>16</th>\n",
              "      <td>PC16</td>\n",
              "      <td>fBodyAcc-bandsEnergy()-49,64.1</td>\n",
              "    </tr>\n",
              "    <tr>\n",
              "      <th>17</th>\n",
              "      <td>PC17</td>\n",
              "      <td>tBodyAccJerk-arCoeff()-Y,3</td>\n",
              "    </tr>\n",
              "    <tr>\n",
              "      <th>18</th>\n",
              "      <td>PC18</td>\n",
              "      <td>tBodyGyro-mean()-X</td>\n",
              "    </tr>\n",
              "    <tr>\n",
              "      <th>19</th>\n",
              "      <td>PC19</td>\n",
              "      <td>tBodyGyro-arCoeff()-X,3</td>\n",
              "    </tr>\n",
              "  </tbody>\n",
              "</table>\n",
              "</div>\n",
              "      <button class=\"colab-df-convert\" onclick=\"convertToInteractive('df-274644bc-2900-4c73-b188-34999eac3303')\"\n",
              "              title=\"Convert this dataframe to an interactive table.\"\n",
              "              style=\"display:none;\">\n",
              "        \n",
              "  <svg xmlns=\"http://www.w3.org/2000/svg\" height=\"24px\"viewBox=\"0 0 24 24\"\n",
              "       width=\"24px\">\n",
              "    <path d=\"M0 0h24v24H0V0z\" fill=\"none\"/>\n",
              "    <path d=\"M18.56 5.44l.94 2.06.94-2.06 2.06-.94-2.06-.94-.94-2.06-.94 2.06-2.06.94zm-11 1L8.5 8.5l.94-2.06 2.06-.94-2.06-.94L8.5 2.5l-.94 2.06-2.06.94zm10 10l.94 2.06.94-2.06 2.06-.94-2.06-.94-.94-2.06-.94 2.06-2.06.94z\"/><path d=\"M17.41 7.96l-1.37-1.37c-.4-.4-.92-.59-1.43-.59-.52 0-1.04.2-1.43.59L10.3 9.45l-7.72 7.72c-.78.78-.78 2.05 0 2.83L4 21.41c.39.39.9.59 1.41.59.51 0 1.02-.2 1.41-.59l7.78-7.78 2.81-2.81c.8-.78.8-2.07 0-2.86zM5.41 20L4 18.59l7.72-7.72 1.47 1.35L5.41 20z\"/>\n",
              "  </svg>\n",
              "      </button>\n",
              "      \n",
              "  <style>\n",
              "    .colab-df-container {\n",
              "      display:flex;\n",
              "      flex-wrap:wrap;\n",
              "      gap: 12px;\n",
              "    }\n",
              "\n",
              "    .colab-df-convert {\n",
              "      background-color: #E8F0FE;\n",
              "      border: none;\n",
              "      border-radius: 50%;\n",
              "      cursor: pointer;\n",
              "      display: none;\n",
              "      fill: #1967D2;\n",
              "      height: 32px;\n",
              "      padding: 0 0 0 0;\n",
              "      width: 32px;\n",
              "    }\n",
              "\n",
              "    .colab-df-convert:hover {\n",
              "      background-color: #E2EBFA;\n",
              "      box-shadow: 0px 1px 2px rgba(60, 64, 67, 0.3), 0px 1px 3px 1px rgba(60, 64, 67, 0.15);\n",
              "      fill: #174EA6;\n",
              "    }\n",
              "\n",
              "    [theme=dark] .colab-df-convert {\n",
              "      background-color: #3B4455;\n",
              "      fill: #D2E3FC;\n",
              "    }\n",
              "\n",
              "    [theme=dark] .colab-df-convert:hover {\n",
              "      background-color: #434B5C;\n",
              "      box-shadow: 0px 1px 3px 1px rgba(0, 0, 0, 0.15);\n",
              "      filter: drop-shadow(0px 1px 2px rgba(0, 0, 0, 0.3));\n",
              "      fill: #FFFFFF;\n",
              "    }\n",
              "  </style>\n",
              "\n",
              "      <script>\n",
              "        const buttonEl =\n",
              "          document.querySelector('#df-274644bc-2900-4c73-b188-34999eac3303 button.colab-df-convert');\n",
              "        buttonEl.style.display =\n",
              "          google.colab.kernel.accessAllowed ? 'block' : 'none';\n",
              "\n",
              "        async function convertToInteractive(key) {\n",
              "          const element = document.querySelector('#df-274644bc-2900-4c73-b188-34999eac3303');\n",
              "          const dataTable =\n",
              "            await google.colab.kernel.invokeFunction('convertToInteractive',\n",
              "                                                     [key], {});\n",
              "          if (!dataTable) return;\n",
              "\n",
              "          const docLinkHtml = 'Like what you see? Visit the ' +\n",
              "            '<a target=\"_blank\" href=https://colab.research.google.com/notebooks/data_table.ipynb>data table notebook</a>'\n",
              "            + ' to learn more about interactive tables.';\n",
              "          element.innerHTML = '';\n",
              "          dataTable['output_type'] = 'display_data';\n",
              "          await google.colab.output.renderOutput(dataTable, element);\n",
              "          const docLink = document.createElement('div');\n",
              "          docLink.innerHTML = docLinkHtml;\n",
              "          element.appendChild(docLink);\n",
              "        }\n",
              "      </script>\n",
              "    </div>\n",
              "  </div>\n",
              "  "
            ]
          },
          "metadata": {},
          "execution_count": 223
        }
      ]
    },
    {
      "cell_type": "code",
      "source": [
        "features = df.values[:,1]\n",
        "features"
      ],
      "metadata": {
        "colab": {
          "base_uri": "https://localhost:8080/"
        },
        "id": "dX6vE4eIrcis",
        "outputId": "7d8dd2e2-23ee-43f1-8f1c-06a4e62e8821"
      },
      "execution_count": null,
      "outputs": [
        {
          "output_type": "execute_result",
          "data": {
            "text/plain": [
              "array(['fBodyAcc-sma()', 'fBodyAcc-meanFreq()-Z',\n",
              "       'tGravityAcc-energy()-X', 'tGravityAcc-max()-Z',\n",
              "       'angle(X,gravityMean)', 'fBodyBodyGyroJerkMag-skewness()',\n",
              "       'fBodyGyro-meanFreq()-Y', 'tBodyAcc-arCoeff()-Y,4',\n",
              "       'fBodyGyro-skewness()-Z', 'tBodyGyroJerk-arCoeff()-Y,3',\n",
              "       'fBodyGyro-bandsEnergy()-49,64.2', 'tBodyAcc-arCoeff()-Y,3',\n",
              "       'fBodyGyro-bandsEnergy()-57,64', 'tBodyAcc-arCoeff()-Z,3',\n",
              "       'tBodyGyro-mean()-X', 'tBodyAcc-arCoeff()-X,3',\n",
              "       'fBodyAcc-bandsEnergy()-49,64.1', 'tBodyAccJerk-arCoeff()-Y,3',\n",
              "       'tBodyGyro-mean()-X', 'tBodyGyro-arCoeff()-X,3'], dtype=object)"
            ]
          },
          "metadata": {},
          "execution_count": 224
        }
      ]
    },
    {
      "cell_type": "code",
      "source": [
        "# Save the PCA data into a dataframe\n",
        "principal_data=pd.DataFrame(data)\n",
        "principal_data.columns = features\n",
        "principal_data.head()"
      ],
      "metadata": {
        "colab": {
          "base_uri": "https://localhost:8080/",
          "height": 305
        },
        "id": "cHAGZRN-jJOw",
        "outputId": "188198f2-ed03-4127-b8c4-fdf2ef39367f"
      },
      "execution_count": null,
      "outputs": [
        {
          "output_type": "execute_result",
          "data": {
            "text/plain": [
              "   fBodyAcc-sma()  fBodyAcc-meanFreq()-Z  tGravityAcc-energy()-X  \\\n",
              "0      -16.138544               2.152024                3.144780   \n",
              "1      -15.296194               1.387144               -0.682221   \n",
              "2      -15.137019               2.473351               -1.756640   \n",
              "3      -15.350884               3.915681               -1.790322   \n",
              "4      -15.544814               4.598737               -2.188582   \n",
              "\n",
              "   tGravityAcc-max()-Z  angle(X,gravityMean)  fBodyBodyGyroJerkMag-skewness()  \\\n",
              "0            -0.272463              6.798948                        -4.249460   \n",
              "1             2.813676              4.266184                        -2.055680   \n",
              "2             3.717973              4.181566                        -1.357507   \n",
              "3             2.567521              3.205817                        -0.942892   \n",
              "4             2.897579              3.080154                        -1.061469   \n",
              "\n",
              "   fBodyGyro-meanFreq()-Y  tBodyAcc-arCoeff()-Y,4  fBodyGyro-skewness()-Z  \\\n",
              "0                2.936821               -4.905115               -0.776782   \n",
              "1                0.011368               -1.846094                0.494016   \n",
              "2                0.073049               -1.388322                0.540348   \n",
              "3                0.530710               -1.832350                1.069545   \n",
              "4               -1.048567               -0.816891                0.600499   \n",
              "\n",
              "   tBodyGyroJerk-arCoeff()-Y,3  fBodyGyro-bandsEnergy()-49,64.2  \\\n",
              "0                    -3.625422                         0.068919   \n",
              "1                    -0.180512                        -1.162251   \n",
              "2                    -0.671489                        -0.671649   \n",
              "3                    -1.497379                        -0.131845   \n",
              "4                     1.118532                        -2.222990   \n",
              "\n",
              "   tBodyAcc-arCoeff()-Y,3  fBodyGyro-bandsEnergy()-57,64  \\\n",
              "0                0.880020                       1.281008   \n",
              "1                0.002154                       0.031539   \n",
              "2               -0.377932                       0.453761   \n",
              "3               -0.279067                      -1.361326   \n",
              "4               -2.480239                      -0.588134   \n",
              "\n",
              "   tBodyAcc-arCoeff()-Z,3  tBodyGyro-mean()-X  tBodyAcc-arCoeff()-X,3  \\\n",
              "0               -0.946395            2.787476                0.871821   \n",
              "1                0.824470            0.431759               -1.320870   \n",
              "2               -1.426407            0.868575               -0.533948   \n",
              "3               -0.270433           -0.607414                1.434061   \n",
              "4                1.117264           -0.597630               -0.024705   \n",
              "\n",
              "   fBodyAcc-bandsEnergy()-49,64.1  tBodyAccJerk-arCoeff()-Y,3  \\\n",
              "0                       -1.728667                   -3.976276   \n",
              "1                        0.682393                   -0.047291   \n",
              "2                       -0.256420                    0.920126   \n",
              "3                        0.016264                   -0.318032   \n",
              "4                        2.226537                    1.340608   \n",
              "\n",
              "   tBodyGyro-mean()-X  tBodyGyro-arCoeff()-X,3  \n",
              "0            2.209642                -0.101777  \n",
              "1            0.980639                 0.092829  \n",
              "2            0.160842                -0.108331  \n",
              "3           -1.398067                -0.591041  \n",
              "4           -1.858709                 0.405567  "
            ],
            "text/html": [
              "\n",
              "  <div id=\"df-c566bd19-404f-4e8a-963a-dda53277f89f\">\n",
              "    <div class=\"colab-df-container\">\n",
              "      <div>\n",
              "<style scoped>\n",
              "    .dataframe tbody tr th:only-of-type {\n",
              "        vertical-align: middle;\n",
              "    }\n",
              "\n",
              "    .dataframe tbody tr th {\n",
              "        vertical-align: top;\n",
              "    }\n",
              "\n",
              "    .dataframe thead th {\n",
              "        text-align: right;\n",
              "    }\n",
              "</style>\n",
              "<table border=\"1\" class=\"dataframe\">\n",
              "  <thead>\n",
              "    <tr style=\"text-align: right;\">\n",
              "      <th></th>\n",
              "      <th>fBodyAcc-sma()</th>\n",
              "      <th>fBodyAcc-meanFreq()-Z</th>\n",
              "      <th>tGravityAcc-energy()-X</th>\n",
              "      <th>tGravityAcc-max()-Z</th>\n",
              "      <th>angle(X,gravityMean)</th>\n",
              "      <th>fBodyBodyGyroJerkMag-skewness()</th>\n",
              "      <th>fBodyGyro-meanFreq()-Y</th>\n",
              "      <th>tBodyAcc-arCoeff()-Y,4</th>\n",
              "      <th>fBodyGyro-skewness()-Z</th>\n",
              "      <th>tBodyGyroJerk-arCoeff()-Y,3</th>\n",
              "      <th>fBodyGyro-bandsEnergy()-49,64.2</th>\n",
              "      <th>tBodyAcc-arCoeff()-Y,3</th>\n",
              "      <th>fBodyGyro-bandsEnergy()-57,64</th>\n",
              "      <th>tBodyAcc-arCoeff()-Z,3</th>\n",
              "      <th>tBodyGyro-mean()-X</th>\n",
              "      <th>tBodyAcc-arCoeff()-X,3</th>\n",
              "      <th>fBodyAcc-bandsEnergy()-49,64.1</th>\n",
              "      <th>tBodyAccJerk-arCoeff()-Y,3</th>\n",
              "      <th>tBodyGyro-mean()-X</th>\n",
              "      <th>tBodyGyro-arCoeff()-X,3</th>\n",
              "    </tr>\n",
              "  </thead>\n",
              "  <tbody>\n",
              "    <tr>\n",
              "      <th>0</th>\n",
              "      <td>-16.138544</td>\n",
              "      <td>2.152024</td>\n",
              "      <td>3.144780</td>\n",
              "      <td>-0.272463</td>\n",
              "      <td>6.798948</td>\n",
              "      <td>-4.249460</td>\n",
              "      <td>2.936821</td>\n",
              "      <td>-4.905115</td>\n",
              "      <td>-0.776782</td>\n",
              "      <td>-3.625422</td>\n",
              "      <td>0.068919</td>\n",
              "      <td>0.880020</td>\n",
              "      <td>1.281008</td>\n",
              "      <td>-0.946395</td>\n",
              "      <td>2.787476</td>\n",
              "      <td>0.871821</td>\n",
              "      <td>-1.728667</td>\n",
              "      <td>-3.976276</td>\n",
              "      <td>2.209642</td>\n",
              "      <td>-0.101777</td>\n",
              "    </tr>\n",
              "    <tr>\n",
              "      <th>1</th>\n",
              "      <td>-15.296194</td>\n",
              "      <td>1.387144</td>\n",
              "      <td>-0.682221</td>\n",
              "      <td>2.813676</td>\n",
              "      <td>4.266184</td>\n",
              "      <td>-2.055680</td>\n",
              "      <td>0.011368</td>\n",
              "      <td>-1.846094</td>\n",
              "      <td>0.494016</td>\n",
              "      <td>-0.180512</td>\n",
              "      <td>-1.162251</td>\n",
              "      <td>0.002154</td>\n",
              "      <td>0.031539</td>\n",
              "      <td>0.824470</td>\n",
              "      <td>0.431759</td>\n",
              "      <td>-1.320870</td>\n",
              "      <td>0.682393</td>\n",
              "      <td>-0.047291</td>\n",
              "      <td>0.980639</td>\n",
              "      <td>0.092829</td>\n",
              "    </tr>\n",
              "    <tr>\n",
              "      <th>2</th>\n",
              "      <td>-15.137019</td>\n",
              "      <td>2.473351</td>\n",
              "      <td>-1.756640</td>\n",
              "      <td>3.717973</td>\n",
              "      <td>4.181566</td>\n",
              "      <td>-1.357507</td>\n",
              "      <td>0.073049</td>\n",
              "      <td>-1.388322</td>\n",
              "      <td>0.540348</td>\n",
              "      <td>-0.671489</td>\n",
              "      <td>-0.671649</td>\n",
              "      <td>-0.377932</td>\n",
              "      <td>0.453761</td>\n",
              "      <td>-1.426407</td>\n",
              "      <td>0.868575</td>\n",
              "      <td>-0.533948</td>\n",
              "      <td>-0.256420</td>\n",
              "      <td>0.920126</td>\n",
              "      <td>0.160842</td>\n",
              "      <td>-0.108331</td>\n",
              "    </tr>\n",
              "    <tr>\n",
              "      <th>3</th>\n",
              "      <td>-15.350884</td>\n",
              "      <td>3.915681</td>\n",
              "      <td>-1.790322</td>\n",
              "      <td>2.567521</td>\n",
              "      <td>3.205817</td>\n",
              "      <td>-0.942892</td>\n",
              "      <td>0.530710</td>\n",
              "      <td>-1.832350</td>\n",
              "      <td>1.069545</td>\n",
              "      <td>-1.497379</td>\n",
              "      <td>-0.131845</td>\n",
              "      <td>-0.279067</td>\n",
              "      <td>-1.361326</td>\n",
              "      <td>-0.270433</td>\n",
              "      <td>-0.607414</td>\n",
              "      <td>1.434061</td>\n",
              "      <td>0.016264</td>\n",
              "      <td>-0.318032</td>\n",
              "      <td>-1.398067</td>\n",
              "      <td>-0.591041</td>\n",
              "    </tr>\n",
              "    <tr>\n",
              "      <th>4</th>\n",
              "      <td>-15.544814</td>\n",
              "      <td>4.598737</td>\n",
              "      <td>-2.188582</td>\n",
              "      <td>2.897579</td>\n",
              "      <td>3.080154</td>\n",
              "      <td>-1.061469</td>\n",
              "      <td>-1.048567</td>\n",
              "      <td>-0.816891</td>\n",
              "      <td>0.600499</td>\n",
              "      <td>1.118532</td>\n",
              "      <td>-2.222990</td>\n",
              "      <td>-2.480239</td>\n",
              "      <td>-0.588134</td>\n",
              "      <td>1.117264</td>\n",
              "      <td>-0.597630</td>\n",
              "      <td>-0.024705</td>\n",
              "      <td>2.226537</td>\n",
              "      <td>1.340608</td>\n",
              "      <td>-1.858709</td>\n",
              "      <td>0.405567</td>\n",
              "    </tr>\n",
              "  </tbody>\n",
              "</table>\n",
              "</div>\n",
              "      <button class=\"colab-df-convert\" onclick=\"convertToInteractive('df-c566bd19-404f-4e8a-963a-dda53277f89f')\"\n",
              "              title=\"Convert this dataframe to an interactive table.\"\n",
              "              style=\"display:none;\">\n",
              "        \n",
              "  <svg xmlns=\"http://www.w3.org/2000/svg\" height=\"24px\"viewBox=\"0 0 24 24\"\n",
              "       width=\"24px\">\n",
              "    <path d=\"M0 0h24v24H0V0z\" fill=\"none\"/>\n",
              "    <path d=\"M18.56 5.44l.94 2.06.94-2.06 2.06-.94-2.06-.94-.94-2.06-.94 2.06-2.06.94zm-11 1L8.5 8.5l.94-2.06 2.06-.94-2.06-.94L8.5 2.5l-.94 2.06-2.06.94zm10 10l.94 2.06.94-2.06 2.06-.94-2.06-.94-.94-2.06-.94 2.06-2.06.94z\"/><path d=\"M17.41 7.96l-1.37-1.37c-.4-.4-.92-.59-1.43-.59-.52 0-1.04.2-1.43.59L10.3 9.45l-7.72 7.72c-.78.78-.78 2.05 0 2.83L4 21.41c.39.39.9.59 1.41.59.51 0 1.02-.2 1.41-.59l7.78-7.78 2.81-2.81c.8-.78.8-2.07 0-2.86zM5.41 20L4 18.59l7.72-7.72 1.47 1.35L5.41 20z\"/>\n",
              "  </svg>\n",
              "      </button>\n",
              "      \n",
              "  <style>\n",
              "    .colab-df-container {\n",
              "      display:flex;\n",
              "      flex-wrap:wrap;\n",
              "      gap: 12px;\n",
              "    }\n",
              "\n",
              "    .colab-df-convert {\n",
              "      background-color: #E8F0FE;\n",
              "      border: none;\n",
              "      border-radius: 50%;\n",
              "      cursor: pointer;\n",
              "      display: none;\n",
              "      fill: #1967D2;\n",
              "      height: 32px;\n",
              "      padding: 0 0 0 0;\n",
              "      width: 32px;\n",
              "    }\n",
              "\n",
              "    .colab-df-convert:hover {\n",
              "      background-color: #E2EBFA;\n",
              "      box-shadow: 0px 1px 2px rgba(60, 64, 67, 0.3), 0px 1px 3px 1px rgba(60, 64, 67, 0.15);\n",
              "      fill: #174EA6;\n",
              "    }\n",
              "\n",
              "    [theme=dark] .colab-df-convert {\n",
              "      background-color: #3B4455;\n",
              "      fill: #D2E3FC;\n",
              "    }\n",
              "\n",
              "    [theme=dark] .colab-df-convert:hover {\n",
              "      background-color: #434B5C;\n",
              "      box-shadow: 0px 1px 3px 1px rgba(0, 0, 0, 0.15);\n",
              "      filter: drop-shadow(0px 1px 2px rgba(0, 0, 0, 0.3));\n",
              "      fill: #FFFFFF;\n",
              "    }\n",
              "  </style>\n",
              "\n",
              "      <script>\n",
              "        const buttonEl =\n",
              "          document.querySelector('#df-c566bd19-404f-4e8a-963a-dda53277f89f button.colab-df-convert');\n",
              "        buttonEl.style.display =\n",
              "          google.colab.kernel.accessAllowed ? 'block' : 'none';\n",
              "\n",
              "        async function convertToInteractive(key) {\n",
              "          const element = document.querySelector('#df-c566bd19-404f-4e8a-963a-dda53277f89f');\n",
              "          const dataTable =\n",
              "            await google.colab.kernel.invokeFunction('convertToInteractive',\n",
              "                                                     [key], {});\n",
              "          if (!dataTable) return;\n",
              "\n",
              "          const docLinkHtml = 'Like what you see? Visit the ' +\n",
              "            '<a target=\"_blank\" href=https://colab.research.google.com/notebooks/data_table.ipynb>data table notebook</a>'\n",
              "            + ' to learn more about interactive tables.';\n",
              "          element.innerHTML = '';\n",
              "          dataTable['output_type'] = 'display_data';\n",
              "          await google.colab.output.renderOutput(dataTable, element);\n",
              "          const docLink = document.createElement('div');\n",
              "          docLink.innerHTML = docLinkHtml;\n",
              "          element.appendChild(docLink);\n",
              "        }\n",
              "      </script>\n",
              "    </div>\n",
              "  </div>\n",
              "  "
            ]
          },
          "metadata": {},
          "execution_count": 225
        }
      ]
    },
    {
      "cell_type": "code",
      "source": [
        "pX_test.columns"
      ],
      "metadata": {
        "colab": {
          "base_uri": "https://localhost:8080/"
        },
        "id": "UmxSmNgRuB0i",
        "outputId": "5b4b05f6-c026-42a7-9ec5-86f4a1b851b6"
      },
      "execution_count": null,
      "outputs": [
        {
          "output_type": "execute_result",
          "data": {
            "text/plain": [
              "Index(['tBodyAcc-mean()-X', 'tBodyAcc-mean()-Y', 'tBodyAcc-mean()-Z',\n",
              "       'tBodyAcc-std()-X', 'tBodyAcc-std()-Y', 'tBodyAcc-std()-Z',\n",
              "       'tBodyAcc-mad()-X', 'tBodyAcc-mad()-Y', 'tBodyAcc-mad()-Z',\n",
              "       'tBodyAcc-max()-X',\n",
              "       ...\n",
              "       'fBodyBodyGyroJerkMag-meanFreq()', 'fBodyBodyGyroJerkMag-skewness()',\n",
              "       'fBodyBodyGyroJerkMag-kurtosis()', 'angle(tBodyAccMean,gravity)',\n",
              "       'angle(tBodyAccJerkMean),gravityMean)',\n",
              "       'angle(tBodyGyroMean,gravityMean)',\n",
              "       'angle(tBodyGyroJerkMean,gravityMean)', 'angle(X,gravityMean)',\n",
              "       'angle(Y,gravityMean)', 'angle(Z,gravityMean)'],\n",
              "      dtype='object', length=561)"
            ]
          },
          "metadata": {},
          "execution_count": 226
        }
      ]
    },
    {
      "cell_type": "code",
      "source": [
        "\n",
        "# Scale X_test\n",
        "scaled_X_test = scaler.transform(pX_test)\n",
        "scaled_X_test =pd.DataFrame(scaled_X_test)\n"
      ],
      "metadata": {
        "id": "DvojuGlHjv0P"
      },
      "execution_count": null,
      "outputs": []
    },
    {
      "cell_type": "code",
      "source": [
        "# ASSUMPTION: The scaled columns are the same as the original columns\n",
        "scaled_X_test.columns = pX_test.columns\n",
        "\n",
        "#Subset X_test\n",
        "feature_list = features.tolist()\n",
        "subset_X_test = scaled_X_test[feature_list]"
      ],
      "metadata": {
        "id": "gQ1kxbgxwhQh"
      },
      "execution_count": null,
      "outputs": []
    },
    {
      "cell_type": "code",
      "source": [
        "# #Fix sample error issue\n",
        "# principal_data.loc[principal_data.index.max() + 1, :] = 0\n",
        "# subset_X_test.loc[subset_X_test.index.max() + 1, :] = 0"
      ],
      "metadata": {
        "id": "_WrfE8PKxSBk"
      },
      "execution_count": null,
      "outputs": []
    },
    {
      "cell_type": "code",
      "source": [
        "# Perform logistic regression\n",
        "logistic=LogisticRegression(multi_class='multinomial', solver='newton-cg')\n",
        "logistic.fit(principal_data,py_train)\n",
        "_pca_y_pred = logistic.predict(subset_X_test)\n",
        "score = logistic.score(subset_X_test,py_test)"
      ],
      "metadata": {
        "id": "PwU8QMeGv_ZZ"
      },
      "execution_count": null,
      "outputs": []
    },
    {
      "cell_type": "code",
      "source": [
        "score"
      ],
      "metadata": {
        "colab": {
          "base_uri": "https://localhost:8080/"
        },
        "id": "9KMDAu9cudEU",
        "outputId": "b363b3fd-affb-43cc-da6f-eed0492d05e0"
      },
      "execution_count": null,
      "outputs": [
        {
          "output_type": "execute_result",
          "data": {
            "text/plain": [
              "0.22361723786901935"
            ]
          },
          "metadata": {},
          "execution_count": 230
        }
      ]
    }
  ]
}